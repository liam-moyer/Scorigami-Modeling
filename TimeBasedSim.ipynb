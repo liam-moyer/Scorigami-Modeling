{
 "cells": [
  {
   "cell_type": "code",
   "execution_count": 2,
   "id": "eb4bec21-fa37-4f0c-b46a-801b392c52a8",
   "metadata": {},
   "outputs": [],
   "source": [
    "import pandas as pd\n",
    "import matplotlib.pyplot as plt\n",
    "import seaborn as sns\n",
    "from collections import defaultdict\n",
    "import csv\n",
    "import datetime as dt\n",
    "import random\n",
    "import numpy as np"
   ]
  },
  {
   "cell_type": "code",
   "execution_count": 3,
   "id": "1b796645-2847-40bd-ace7-cb27dd1e661d",
   "metadata": {},
   "outputs": [],
   "source": [
    "#Contains play by play data from 2015-2023 NFL seasons\n",
    "\n",
    "df_list = [\"pbp_2015.csv\", \"pbp_2016.csv\", \"pbp_2017.csv\", \"pbp_2018.csv\", \"pbp_2019.csv\", \"pbp_2020.csv\", \"pbp_2021.csv\", \"pbp_2022.csv\", \"pbp_2023.csv\"]"
   ]
  },
  {
   "cell_type": "code",
   "execution_count": 4,
   "id": "38e596e7-b89e-45c6-adcb-8bbce306e9a7",
   "metadata": {},
   "outputs": [
    {
     "name": "stderr",
     "output_type": "stream",
     "text": [
      "C:\\Users\\lcm021\\AppData\\Local\\Temp\\ipykernel_9112\\260490637.py:33: DtypeWarning: Columns (46,180,181,183,184,190,191,194,195,198,199,204,205,206,207,219,220,221,234,235,236,237,238,239,249,250,254,255,256,261,263,264,284,285,302) have mixed types. Specify dtype option on import or set low_memory=False.\n",
      "  df = pd.read_csv(df)\n",
      "C:\\Users\\lcm021\\AppData\\Local\\Temp\\ipykernel_9112\\260490637.py:33: DtypeWarning: Columns (180,181,183,184,190,191,194,195,198,199,204,205,206,207,210,211,219,220,221,249,250,254,255,256,261,263,264,284,285,302) have mixed types. Specify dtype option on import or set low_memory=False.\n",
      "  df = pd.read_csv(df)\n",
      "C:\\Users\\lcm021\\AppData\\Local\\Temp\\ipykernel_9112\\260490637.py:33: DtypeWarning: Columns (180,181,183,184,190,191,192,193,194,195,198,199,200,201,204,205,206,207,214,215,219,220,221,249,250,254,255,256,261,263,264,267,268,269,270,284,285,302) have mixed types. Specify dtype option on import or set low_memory=False.\n",
      "  df = pd.read_csv(df)\n",
      "C:\\Users\\lcm021\\AppData\\Local\\Temp\\ipykernel_9112\\260490637.py:33: DtypeWarning: Columns (41,42,45,46,50,51,52,53,180,181,183,184,188,189,192,193,194,195,196,197,198,199,200,201,204,205,206,207,208,209,212,213,214,215,216,217,218,219,220,221,223,225,227,228,229,230,231,232,233,241,242,243,247,248,249,250,251,252,253,254,255,256,257,259,260,261,263,264,265,266,267,268,269,270,271,273,274,275,278,279,284,285,302) have mixed types. Specify dtype option on import or set low_memory=False.\n",
      "  df = pd.read_csv(df)\n",
      "C:\\Users\\lcm021\\AppData\\Local\\Temp\\ipykernel_9112\\260490637.py:33: DtypeWarning: Columns (46,180,181,183,184,190,191,194,195,198,199,204,205,206,207,210,211,219,220,221,234,235,236,237,238,239,249,250,254,255,256,261,263,264,284,285,302) have mixed types. Specify dtype option on import or set low_memory=False.\n",
      "  df = pd.read_csv(df)\n",
      "C:\\Users\\lcm021\\AppData\\Local\\Temp\\ipykernel_9112\\260490637.py:33: DtypeWarning: Columns (180,181,183,184,190,191,194,195,198,199,204,205,206,207,214,215,219,220,221,223,225,227,249,250,254,255,256,261,263,264,267,268,269,270,284,285,302) have mixed types. Specify dtype option on import or set low_memory=False.\n",
      "  df = pd.read_csv(df)\n",
      "C:\\Users\\lcm021\\AppData\\Local\\Temp\\ipykernel_9112\\260490637.py:33: DtypeWarning: Columns (180,181,183,184,190,191,194,195,198,199,204,205,206,207,219,220,221,234,235,236,237,238,239,254,255,256,261,263,264,284,285,302) have mixed types. Specify dtype option on import or set low_memory=False.\n",
      "  df = pd.read_csv(df)\n",
      "C:\\Users\\lcm021\\AppData\\Local\\Temp\\ipykernel_9112\\260490637.py:33: DtypeWarning: Columns (46,180,181,183,184,188,189,190,191,194,195,198,199,204,205,206,207,214,215,219,220,221,223,225,227,244,245,246,249,250,254,255,256,261,263,264,267,268,269,270,284,285) have mixed types. Specify dtype option on import or set low_memory=False.\n",
      "  df = pd.read_csv(df)\n",
      "C:\\Users\\lcm021\\AppData\\Local\\Temp\\ipykernel_9112\\260490637.py:33: DtypeWarning: Columns (180,181,183,184,204,205,206,207,219,220,221,223,225,227,254,255,256,261,263,264,284,285,333) have mixed types. Specify dtype option on import or set low_memory=False.\n",
      "  df = pd.read_csv(df)\n"
     ]
    }
   ],
   "source": [
    "\"\"\"\n",
    "    Creates variables xp_attempt_perc, xp2_attempt_perc, xp_make_perc, xp2_make_perc\n",
    "    Stored in arrays based on score difference\n",
    "    \n",
    "    i.e. xp_attempt_perc[-8] returns the real percentage that teams down 8 attempt an extra \n",
    "        point from the 2015-2023 NFL seasons. Similarly, xp_make_perc[-8] shows the percentage\n",
    "        of successful extra points when a team is down 8 in the 2015-2023 seasons. xp2_attempt_perc\n",
    "        and xp2_make_perc work the same way storing information on 2 point conversions. \n",
    "    \n",
    "    Parameters:\n",
    "    - None\n",
    "\n",
    "    Returns:\n",
    "    - None\n",
    "\"\"\"\n",
    "\n",
    "#Initializes each value to 0. Score difference spans from [-70 to 70].\n",
    "ScoreDiff = [x for x in range(-70, 71)]\n",
    "XP_Attempt_Count={}\n",
    "XP2_Attempt_Count={}\n",
    "for sd in ScoreDiff:\n",
    "    XP_Attempt_Count[sd] = 0\n",
    "    XP2_Attempt_Count[sd] = 0\n",
    "\n",
    "xp_attempt_perc = {}\n",
    "xp2_attempt_perc = {}\n",
    "\n",
    "xp_makes=0\n",
    "xp2_makes=0\n",
    "\n",
    "for df in df_list:\n",
    "\n",
    "    df = pd.read_csv(df)\n",
    "\n",
    "    for index, row in df.iterrows():\n",
    "\n",
    "        #Counts for each attempt and make for both extra points and two point conversions\n",
    "        \n",
    "        if(row['extra_point_attempt']==1):\n",
    "            XP_Attempt_Count[int(row['score_differential_post'])]+=1\n",
    "        if(row['two_point_attempt']==1):\n",
    "            XP2_Attempt_Count[int(row['score_differential_post'])]+=1\n",
    "        if(row['extra_point_result']=='good'):\n",
    "            xp_makes+=1\n",
    "        if(row['two_point_conv_result']=='success'):\n",
    "            xp2_makes+=1\n",
    "\n",
    "\n",
    "    #Calculate attempt percentages at each score difference for both extra points and two point conversions\n",
    "    for sd in XP_Attempt_Count:\n",
    "        try:\n",
    "            xp_attempt_perc[sd] = XP_Attempt_Count[sd]/(XP_Attempt_Count[sd]+XP2_Attempt_Count[sd])\n",
    "            xp2_attempt_perc[sd] = XP2_Attempt_Count[sd]/(XP_Attempt_Count[sd]+XP2_Attempt_Count[sd])\n",
    "\n",
    "        except ZeroDivisionError:\n",
    "            XP_Attempt_Count[sd]=0\n",
    "            XP2_Attempt_Count[sd]=0\n",
    "\n",
    "#Calcualte overall make percentage\n",
    "xp_make_perc = xp_makes/sum(XP_Attempt_Count.values())\n",
    "xp2_make_perc = xp2_makes/sum(XP2_Attempt_Count.values())"
   ]
  },
  {
   "cell_type": "code",
   "execution_count": 5,
   "id": "65637a2e-6c86-4694-beff-f2683a3b33a6",
   "metadata": {},
   "outputs": [
    {
     "name": "stderr",
     "output_type": "stream",
     "text": [
      "C:\\Users\\lcm021\\AppData\\Local\\Temp\\ipykernel_9112\\318916883.py:1: DtypeWarning: Columns (2) have mixed types. Specify dtype option on import or set low_memory=False.\n",
      "  ot = pd.read_csv(\"All NFL Game Data (Including OT Stats).csv\")\n"
     ]
    }
   ],
   "source": [
    "ot = pd.read_csv(\"All NFL Game Data (Including OT Stats).csv\")\n",
    "\n",
    "#Creates dictionary with keys of all overtime final scores\n",
    "#Note 2023 rules allow for possible other variations, but it has not occurred\n",
    "\n",
    "keylist = ['0-0', '2-0', '3-0', '6-0', '3-3', '6-3']\n",
    "ot_count=0\n",
    "ot_scores = {}\n",
    "for i in keylist:\n",
    "    ot_scores[i] = 0\n",
    "\n",
    "#Counts the total of each key\n",
    "for index, row in ot.iterrows():\n",
    "    if (int(row['SEASON'])>=2015 and row['OVERTIME']):\n",
    "        ot_count+=1\n",
    "        ot_scores[row['OT SCORE']]+=1\n",
    "\n",
    "#Divides by 2 as the csv has the final score for both teams \n",
    "for score in ot_scores:\n",
    "    ot_scores[score]=ot_scores[score]/2\n",
    "\n"
   ]
  },
  {
   "cell_type": "code",
   "execution_count": 6,
   "id": "b5687eb4-a82d-499f-bafb-38d2b5acf3a5",
   "metadata": {},
   "outputs": [
    {
     "name": "stdout",
     "output_type": "stream",
     "text": [
      "{'0-0': 7.0, '2-0': 0.0, '3-0': 74.0, '6-0': 49.0, '3-3': 2.0, '6-3': 13.0}\n"
     ]
    }
   ],
   "source": [
    "print(ot_scores)"
   ]
  },
  {
   "cell_type": "code",
   "execution_count": 7,
   "id": "4b87cfb3-125f-45fe-89d1-90ee6af2f18a",
   "metadata": {},
   "outputs": [],
   "source": [
    "def ot_scoring(t1, t2, avg_mu):\n",
    "\n",
    "    \"\"\"\n",
    "    Simulates Overtime\n",
    "\n",
    "    Selects the scoring team based off weights from all scoring events. Then selects the final score based off percentages from the\n",
    "    2015-2023 seasons. \n",
    "\n",
    "    Parameters:\n",
    "    - t1 (int): Rank of the first team\n",
    "    - t2 (int): Rank of the second team\n",
    "    - avg_mu (list): Array of average scoring mus -avg_mu[rank][period][event]\n",
    "\n",
    "    Returns:\n",
    "    - (tuple): Returns the selected scoring team and the final score after overtime\n",
    "    \"\"\"\n",
    "\n",
    "    w1=0\n",
    "    w2=0\n",
    "    for period in range(6):\n",
    "        w1+=(avg_mu[t1][period][0]+avg_mu[t1][period][1]+avg_mu[t1][period][2]+avg_mu[t1][period][3]+avg_mu[t1][period][4]+avg_mu[t1][period][5])\n",
    "        w2+=(avg_mu[t2][period][0]+avg_mu[t2][period][1]+avg_mu[t2][period][2]+avg_mu[t2][period][3]+avg_mu[t2][period][4]+avg_mu[t2][period][5])\n",
    "\n",
    "    weight1=w1/(w1+w2)\n",
    "    weight2=1-weight1\n",
    "\n",
    "    scoring_team = random.choices([1,2], weights=(weight1, weight2))\n",
    "    scoring_team = scoring_team[0]\n",
    "\n",
    "\n",
    "    ot_event = random.choices([1,2,3,4,5,6], weights=(ot_scores['0-0']/ot_count, ot_scores['2-0']/ot_count, ot_scores['3-0']/ot_count, ot_scores['6-0']/ot_count, ot_scores['3-3']/ot_count, ot_scores['6-3']/ot_count))\n",
    "    ot_event = ot_event[0]\n",
    "\n",
    "\n",
    "    if ot_event == 1:\n",
    "        return (scoring_team, [0,0])\n",
    "    if ot_event == 2:\n",
    "        return (scoring_team, [2,0])\n",
    "    if ot_event == 3:\n",
    "        return (scoring_team, [3,0])\n",
    "    if ot_event == 4:\n",
    "        return (scoring_team, [6,0])\n",
    "    if ot_event == 5:\n",
    "        return (scoring_team, [3,3])\n",
    "    if ot_event == 6:\n",
    "        return (scoring_team, [6,3])"
   ]
  },
  {
   "cell_type": "code",
   "execution_count": 9,
   "id": "d37171ef-d53c-438c-99f5-098954818243",
   "metadata": {},
   "outputs": [
    {
     "name": "stderr",
     "output_type": "stream",
     "text": [
      "C:\\Users\\lcm021\\AppData\\Local\\Temp\\ipykernel_9112\\3844262644.py:16: DtypeWarning: Columns (46,180,181,183,184,190,191,194,195,198,199,204,205,206,207,219,220,221,234,235,236,237,238,239,249,250,254,255,256,261,263,264,284,285,302) have mixed types. Specify dtype option on import or set low_memory=False.\n",
      "  df = pd.read_csv(df)\n"
     ]
    },
    {
     "name": "stdout",
     "output_type": "stream",
     "text": [
      "2015 {'LAC': [11, 11, 11, 9, 15, 4], 'TEN': [12, 10, 3, 14, 9, 2], 'JAX': [9, 16, 8, 17, 14, 6], 'TB': [14, 16, 5, 14, 10, 6], 'HOU': [11, 12, 4, 14, 19, 2], 'LA': [13, 14, 5, 11, 7, 2], 'LV': [10, 19, 5, 17, 9, 4], 'NE': [15, 22, 7, 20, 17, 5], 'BUF': [15, 13, 8, 14, 17, 2], 'CIN': [14, 17, 5, 16, 16, 4], 'BAL': [12, 12, 8, 10, 17, 6], 'PIT': [14, 15, 10, 15, 23, 3], 'ARI': [14, 21, 8, 24, 18, 3], 'ATL': [9, 16, 8, 9, 12, 8], 'NO': [19, 12, 5, 15, 13, 5], 'IND': [13, 18, 1, 10, 16, 3], 'KC': [16, 19, 9, 12, 19, 1], 'CAR': [17, 21, 7, 22, 16, 4], 'MIA': [9, 11, 7, 10, 13, 2], 'PHI': [11, 15, 5, 16, 17, 2], 'DAL': [13, 10, 6, 10, 13, 5], 'SF': [6, 12, 7, 10, 8, 3], 'SEA': [14, 13, 10, 20, 18, 3], 'WAS': [17, 14, 8, 11, 15, 6], 'DEN': [13, 13, 7, 11, 17, 5], 'NYJ': [15, 11, 7, 15, 17, 4], 'CLE': [10, 13, 8, 8, 14, 2], 'MIN': [15, 11, 8, 16, 19, 2], 'DET': [15, 12, 8, 10, 15, 5], 'CHI': [10, 15, 8, 11, 17, 6], 'NYG': [15, 17, 9, 14, 17, 6], 'GB': [18, 8, 4, 15, 17, 4]}\n"
     ]
    },
    {
     "name": "stderr",
     "output_type": "stream",
     "text": [
      "C:\\Users\\lcm021\\AppData\\Local\\Temp\\ipykernel_9112\\3844262644.py:16: DtypeWarning: Columns (180,181,183,184,190,191,194,195,198,199,204,205,206,207,210,211,219,220,221,249,250,254,255,256,261,263,264,284,285,302) have mixed types. Specify dtype option on import or set low_memory=False.\n",
      "  df = pd.read_csv(df)\n"
     ]
    },
    {
     "name": "stdout",
     "output_type": "stream",
     "text": [
      "2016 {'LAC': [13, 19, 6, 20, 15, 1], 'TEN': [14, 14, 9, 11, 16, 4], 'JAX': [9, 14, 6, 13, 16, 3], 'TB': [13, 13, 6, 17, 13, 2], 'HOU': [9, 11, 6, 14, 18, 2], 'LA': [13, 6, 5, 6, 11, 2], 'LV': [13, 15, 10, 16, 18, 3], 'NE': [23, 15, 5, 19, 18, 1], 'BUF': [14, 13, 6, 17, 12, 6], 'CIN': [17, 13, 7, 13, 12, 2], 'BAL': [18, 8, 14, 11, 18, 2], 'PIT': [16, 10, 8, 13, 18, 6], 'ARI': [9, 14, 13, 13, 21, 3], 'ATL': [25, 23, 7, 22, 17, 3], 'NO': [15, 19, 9, 14, 24, 3], 'IND': [16, 18, 6, 12, 18, 4], 'KC': [15, 15, 6, 11, 18, 7], 'CAR': [15, 17, 4, 17, 15, 3], 'MIA': [7, 15, 3, 18, 12, 5], 'PHI': [12, 14, 9, 16, 19, 3], 'DAL': [15, 19, 7, 14, 18, 2], 'SF': [13, 16, 3, 6, 14, 3], 'SEA': [13, 19, 8, 10, 18, 2], 'WAS': [14, 12, 7, 19, 21, 4], 'DEN': [8, 14, 7, 7, 22, 6], 'NYJ': [10, 15, 4, 8, 16, 1], 'CLE': [12, 11, 8, 8, 8, 2], 'MIN': [11, 15, 5, 13, 16, 4], 'DET': [11, 13, 9, 11, 14, 10], 'CHI': [9, 13, 6, 8, 13, 2], 'NYG': [9, 13, 6, 12, 13, 4], 'GB': [15, 17, 9, 12, 23, 1]}\n"
     ]
    },
    {
     "name": "stderr",
     "output_type": "stream",
     "text": [
      "C:\\Users\\lcm021\\AppData\\Local\\Temp\\ipykernel_9112\\3844262644.py:16: DtypeWarning: Columns (180,181,183,184,190,191,192,193,194,195,198,199,200,201,204,205,206,207,214,215,219,220,221,249,250,254,255,256,261,263,264,267,268,269,270,284,285,302) have mixed types. Specify dtype option on import or set low_memory=False.\n",
      "  df = pd.read_csv(df)\n"
     ]
    },
    {
     "name": "stdout",
     "output_type": "stream",
     "text": [
      "2017 {'LAC': [8, 18, 9, 14, 13, 1], 'TEN': [12, 13, 10, 17, 11, 4], 'JAX': [15, 17, 7, 17, 17, 4], 'TB': [15, 8, 6, 10, 20, 4], 'HOU': [13, 11, 8, 11, 17, 1], 'LA': [23, 21, 10, 20, 19, 0], 'LV': [9, 11, 4, 10, 15, 3], 'NE': [15, 25, 11, 19, 13, 5], 'BUF': [8, 13, 6, 13, 18, 1], 'CIN': [11, 15, 6, 8, 11, 1], 'BAL': [10, 20, 8, 13, 22, 3], 'PIT': [15, 16, 11, 16, 16, 5], 'ARI': [11, 15, 4, 12, 14, 3], 'ATL': [16, 15, 7, 12, 20, 0], 'NO': [20, 12, 9, 16, 20, 4], 'IND': [9, 16, 5, 13, 10, 2], 'KC': [16, 15, 9, 17, 21, 5], 'CAR': [13, 16, 7, 19, 10, 4], 'MIA': [10, 11, 1, 13, 14, 5], 'PHI': [18, 14, 7, 19, 17, 7], 'DAL': [12, 15, 8, 9, 17, 3], 'SF': [12, 12, 9, 14, 17, 5], 'SEA': [11, 7, 7, 18, 19, 4], 'WAS': [14, 14, 6, 10, 14, 5], 'DEN': [13, 10, 4, 15, 11, 2], 'NYJ': [10, 10, 8, 15, 11, 2], 'CLE': [7, 9, 5, 11, 7, 3], 'MIN': [14, 14, 10, 16, 18, 2], 'DET': [10, 19, 8, 17, 19, 3], 'CHI': [9, 9, 8, 7, 12, 1], 'NYG': [12, 12, 2, 7, 9, 4], 'GB': [13, 6, 4, 9, 16, 4]}\n"
     ]
    },
    {
     "name": "stderr",
     "output_type": "stream",
     "text": [
      "C:\\Users\\lcm021\\AppData\\Local\\Temp\\ipykernel_9112\\3844262644.py:16: DtypeWarning: Columns (41,42,45,46,50,51,52,53,180,181,183,184,188,189,192,193,194,195,196,197,198,199,200,201,204,205,206,207,208,209,212,213,214,215,216,217,218,219,220,221,223,225,227,228,229,230,231,232,233,241,242,243,247,248,249,250,251,252,253,254,255,256,257,259,260,261,263,264,265,266,267,268,269,270,271,273,274,275,278,279,284,285,302) have mixed types. Specify dtype option on import or set low_memory=False.\n",
      "  df = pd.read_csv(df)\n"
     ]
    },
    {
     "name": "stdout",
     "output_type": "stream",
     "text": [
      "2018 {'LAC': [15, 15, 9, 16, 18, 3], 'TEN': [15, 5, 7, 11, 15, 6], 'JAX': [9, 13, 5, 10, 11, 2], 'TB': [12, 15, 11, 13, 16, 1], 'HOU': [17, 19, 7, 12, 17, 4], 'LA': [18, 26, 7, 23, 21, 1], 'LV': [10, 12, 5, 12, 12, 5], 'NE': [15, 22, 5, 14, 20, 2], 'BUF': [12, 8, 3, 16, 10, 3], 'CIN': [11, 14, 7, 9, 18, 5], 'BAL': [16, 15, 8, 19, 15, 3], 'PIT': [11, 19, 9, 16, 15, 2], 'ARI': [13, 7, 2, 5, 9, 3], 'ATL': [12, 18, 8, 12, 19, 5], 'NO': [14, 19, 11, 15, 24, 4], 'IND': [13, 16, 10, 14, 17, 4], 'KC': [25, 20, 7, 21, 17, 4], 'CAR': [15, 19, 4, 8, 16, 4], 'MIA': [8, 12, 8, 13, 13, 1], 'PHI': [7, 13, 8, 18, 15, 5], 'DAL': [16, 5, 10, 13, 16, 4], 'SF': [12, 16, 9, 17, 13, 1], 'SEA': [12, 18, 5, 12, 22, 5], 'WAS': [10, 12, 5, 8, 18, 2], 'DEN': [13, 10, 4, 14, 13, 5], 'NYJ': [11, 14, 7, 18, 15, 2], 'CLE': [12, 11, 7, 15, 16, 2], 'MIN': [13, 8, 8, 15, 17, 3], 'DET': [11, 15, 7, 12, 17, 1], 'CHI': [14, 15, 9, 14, 20, 2], 'NYG': [13, 10, 11, 16, 13, 7], 'GB': [12, 14, 7, 17, 15, 5]}\n"
     ]
    },
    {
     "name": "stderr",
     "output_type": "stream",
     "text": [
      "C:\\Users\\lcm021\\AppData\\Local\\Temp\\ipykernel_9112\\3844262644.py:16: DtypeWarning: Columns (46,180,181,183,184,190,191,194,195,198,199,204,205,206,207,210,211,219,220,221,234,235,236,237,238,239,249,250,254,255,256,261,263,264,284,285,302) have mixed types. Specify dtype option on import or set low_memory=False.\n",
      "  df = pd.read_csv(df)\n"
     ]
    },
    {
     "name": "stdout",
     "output_type": "stream",
     "text": [
      "2019 {'LAC': [11, 11, 10, 12, 14, 4], 'TEN': [11, 10, 3, 18, 20, 1], 'JAX': [11, 10, 7, 13, 17, 4], 'TB': [17, 18, 11, 14, 17, 4], 'HOU': [9, 17, 5, 16, 16, 3], 'LA': [12, 20, 6, 15, 16, 2], 'LV': [15, 13, 6, 5, 12, 5], 'NE': [19, 15, 7, 19, 16, 1], 'BUF': [10, 17, 3, 11, 14, 3], 'CIN': [13, 11, 6, 10, 10, 6], 'BAL': [22, 19, 6, 18, 24, 3], 'PIT': [9, 11, 9, 15, 13, 1], 'ARI': [14, 12, 9, 13, 18, 2], 'ATL': [15, 11, 7, 12, 22, 6], 'NO': [17, 22, 5, 22, 15, 4], 'IND': [15, 13, 8, 15, 12, 4], 'KC': [17, 23, 11, 17, 12, 5], 'CAR': [11, 11, 8, 16, 16, 3], 'MIA': [10, 14, 7, 9, 12, 5], 'PHI': [15, 13, 5, 17, 11, 6], 'DAL': [13, 15, 10, 16, 22, 3], 'SF': [18, 16, 8, 19, 17, 8], 'SEA': [13, 13, 7, 13, 20, 4], 'WAS': [7, 16, 4, 11, 9, 6], 'DEN': [13, 16, 5, 11, 9, 3], 'NYJ': [10, 11, 5, 10, 14, 2], 'CLE': [13, 18, 5, 11, 13, 3], 'MIN': [15, 18, 9, 13, 20, 0], 'DET': [17, 14, 6, 11, 15, 0], 'CHI': [7, 10, 9, 18, 6, 4], 'NYG': [8, 20, 3, 16, 7, 2], 'GB': [16, 12, 5, 17, 14, 2]}\n"
     ]
    },
    {
     "name": "stderr",
     "output_type": "stream",
     "text": [
      "C:\\Users\\lcm021\\AppData\\Local\\Temp\\ipykernel_9112\\3844262644.py:16: DtypeWarning: Columns (180,181,183,184,190,191,194,195,198,199,204,205,206,207,214,215,219,220,221,223,225,227,249,250,254,255,256,261,263,264,267,268,269,270,284,285,302) have mixed types. Specify dtype option on import or set low_memory=False.\n",
      "  df = pd.read_csv(df)\n"
     ]
    },
    {
     "name": "stdout",
     "output_type": "stream",
     "text": [
      "2020 {'LAC': [12, 15, 11, 15, 14, 2], 'TEN': [16, 14, 10, 17, 15, 8], 'JAX': [10, 11, 6, 12, 12, 4], 'TB': [15, 17, 9, 23, 23, 1], 'HOU': [11, 14, 10, 15, 18, 3], 'LA': [14, 16, 5, 16, 17, 0], 'LV': [14, 17, 9, 15, 18, 7], 'NE': [6, 15, 7, 15, 17, 2], 'BUF': [14, 24, 8, 16, 23, 3], 'CIN': [11, 12, 8, 11, 12, 6], 'BAL': [21, 19, 7, 16, 17, 3], 'PIT': [12, 19, 9, 12, 21, 1], 'ARI': [17, 15, 7, 14, 16, 3], 'ATL': [20, 18, 9, 13, 16, 3], 'NO': [14, 15, 15, 17, 16, 4], 'IND': [17, 19, 11, 13, 23, 1], 'KC': [17, 17, 8, 16, 19, 5], 'CAR': [17, 15, 5, 10, 17, 3], 'MIA': [17, 15, 10, 11, 21, 4], 'PHI': [11, 13, 5, 10, 14, 4], 'DAL': [17, 16, 9, 13, 16, 5], 'SF': [15, 8, 7, 15, 15, 7], 'SEA': [16, 15, 10, 18, 17, 6], 'WAS': [9, 9, 9, 13, 22, 3], 'DEN': [12, 10, 6, 15, 18, 2], 'NYJ': [12, 11, 4, 11, 7, 3], 'CLE': [12, 18, 8, 13, 16, 4], 'MIN': [14, 8, 8, 19, 18, 3], 'DET': [15, 10, 8, 14, 15, 5], 'CHI': [15, 13, 12, 8, 18, 5], 'NYG': [13, 10, 6, 12, 15, 2], 'GB': [14, 26, 8, 16, 18, 1]}\n"
     ]
    },
    {
     "name": "stderr",
     "output_type": "stream",
     "text": [
      "C:\\Users\\lcm021\\AppData\\Local\\Temp\\ipykernel_9112\\3844262644.py:16: DtypeWarning: Columns (180,181,183,184,190,191,194,195,198,199,204,205,206,207,219,220,221,234,235,236,237,238,239,254,255,256,261,263,264,284,285,302) have mixed types. Specify dtype option on import or set low_memory=False.\n",
      "  df = pd.read_csv(df)\n"
     ]
    },
    {
     "name": "stdout",
     "output_type": "stream",
     "text": [
      "2021 {'LAC': [14, 19, 7, 12, 22, 7], 'TEN': [11, 23, 8, 10, 17, 4], 'JAX': [10, 9, 7, 8, 12, 3], 'TB': [16, 20, 8, 18, 20, 5], 'HOU': [10, 15, 7, 6, 14, 1], 'LA': [13, 18, 11, 18, 17, 7], 'LV': [13, 11, 11, 16, 16, 5], 'NE': [12, 18, 10, 17, 28, 2], 'BUF': [18, 15, 10, 18, 21, 3], 'CIN': [13, 12, 13, 20, 19, 4], 'BAL': [9, 15, 10, 15, 15, 10], 'PIT': [7, 11, 4, 12, 30, 4], 'ARI': [17, 15, 9, 23, 15, 3], 'ATL': [13, 15, 10, 10, 8, 5], 'NO': [8, 12, 9, 9, 24, 6], 'IND': [17, 15, 11, 18, 20, 1], 'KC': [21, 15, 8, 17, 21, 2], 'CAR': [17, 15, 5, 6, 15, 1], 'MIA': [15, 11, 5, 8, 19, 3], 'PHI': [15, 14, 7, 20, 21, 3], 'DAL': [21, 15, 12, 18, 18, 8], 'SF': [15, 11, 12, 18, 15, 4], 'SEA': [14, 13, 11, 13, 14, 3], 'WAS': [14, 13, 8, 11, 14, 5], 'DEN': [9, 15, 7, 12, 18, 2], 'NYJ': [10, 10, 6, 11, 16, 3], 'CLE': [12, 12, 10, 12, 12, 1], 'MIN': [16, 17, 6, 20, 15, 6], 'DET': [8, 13, 8, 13, 13, 6], 'CHI': [9, 12, 11, 11, 10, 7], 'NYG': [8, 15, 0, 9, 18, 3], 'GB': [9, 19, 11, 20, 18, 1]}\n"
     ]
    },
    {
     "name": "stderr",
     "output_type": "stream",
     "text": [
      "C:\\Users\\lcm021\\AppData\\Local\\Temp\\ipykernel_9112\\3844262644.py:16: DtypeWarning: Columns (46,180,181,183,184,188,189,190,191,194,195,198,199,204,205,206,207,214,215,219,220,221,223,225,227,244,245,246,249,250,254,255,256,261,263,264,267,268,269,270,284,285) have mixed types. Specify dtype option on import or set low_memory=False.\n",
      "  df = pd.read_csv(df)\n"
     ]
    },
    {
     "name": "stdout",
     "output_type": "stream",
     "text": [
      "2022 {'LAC': [10, 24, 11, 11, 12, 5], 'TEN': [13, 16, 7, 10, 7, 1], 'JAX': [12, 18, 7, 18, 16, 3], 'TB': [13, 10, 10, 8, 16, 5], 'HOU': [10, 16, 2, 17, 11, 3], 'LA': [16, 13, 7, 11, 10, 3], 'LV': [15, 16, 10, 13, 16, 5], 'NE': [10, 15, 7, 22, 15, 2], 'BUF': [16, 16, 10, 20, 13, 7], 'CIN': [16, 16, 8, 16, 16, 2], 'BAL': [14, 17, 6, 16, 16, 2], 'PIT': [12, 14, 10, 10, 11, 5], 'ARI': [10, 15, 10, 10, 17, 2], 'ATL': [13, 11, 10, 15, 17, 4], 'NO': [11, 13, 5, 14, 14, 3], 'IND': [11, 12, 6, 16, 11, 3], 'KC': [17, 19, 10, 18, 18, 2], 'CAR': [9, 16, 5, 11, 21, 7], 'MIA': [15, 22, 6, 15, 9, 6], 'PHI': [14, 25, 11, 14, 15, 2], 'DAL': [16, 15, 10, 18, 22, 3], 'SF': [15, 16, 9, 18, 19, 2], 'SEA': [19, 14, 8, 15, 19, 2], 'WAS': [10, 10, 8, 12, 18, 4], 'DEN': [12, 13, 9, 8, 15, 1], 'NYJ': [12, 10, 9, 9, 14, 7], 'CLE': [12, 14, 5, 14, 16, 4], 'MIN': [13, 14, 7, 10, 24, 6], 'DET': [19, 16, 8, 13, 19, 4], 'CHI': [17, 11, 7, 16, 10, 1], 'NYG': [8, 13, 7, 18, 17, 6], 'GB': [15, 14, 7, 13, 15, 2]}\n"
     ]
    },
    {
     "name": "stderr",
     "output_type": "stream",
     "text": [
      "C:\\Users\\lcm021\\AppData\\Local\\Temp\\ipykernel_9112\\3844262644.py:16: DtypeWarning: Columns (180,181,183,184,204,205,206,207,219,220,221,223,225,227,254,255,256,261,263,264,284,285,333) have mixed types. Specify dtype option on import or set low_memory=False.\n",
      "  df = pd.read_csv(df)\n"
     ]
    },
    {
     "name": "stdout",
     "output_type": "stream",
     "text": [
      "2023 {'LAC': [13, 12, 6, 7, 12, 1], 'TEN': [11, 9, 5, 10, 7, 1], 'JAX': [10, 13, 5, 13, 15, 2], 'TB': [7, 10, 4, 8, 13, 2], 'HOU': [10, 13, 6, 11, 13, 3], 'LA': [12, 8, 10, 11, 12, 5], 'LV': [10, 9, 5, 6, 9, 2], 'NE': [6, 6, 2, 6, 8, 1], 'BUF': [11, 14, 6, 11, 15, 3], 'CIN': [11, 8, 4, 12, 14, 2], 'BAL': [15, 12, 8, 14, 14, 1], 'PIT': [5, 10, 2, 11, 11, 2], 'ARI': [12, 10, 8, 8, 4, 3], 'ATL': [7, 10, 3, 10, 13, 4], 'NO': [11, 14, 2, 13, 13, 1], 'IND': [11, 13, 7, 10, 13, 2], 'KC': [11, 12, 14, 9, 9, 0], 'CAR': [6, 11, 3, 9, 8, 3], 'MIA': [13, 12, 10, 15, 11, 1], 'PHI': [15, 7, 5, 14, 14, 3], 'DAL': [17, 16, 8, 10, 19, 1], 'SF': [12, 14, 7, 11, 16, 0], 'SEA': [13, 9, 6, 12, 9, 2], 'WAS': [8, 9, 7, 10, 9, 4], 'DEN': [12, 8, 9, 6, 16, 6], 'NYJ': [6, 11, 5, 9, 9, 5], 'CLE': [9, 13, 9, 13, 11, 4], 'MIN': [6, 14, 6, 13, 7, 2], 'DET': [15, 13, 6, 7, 12, 5], 'CHI': [10, 13, 4, 10, 16, 1], 'NYG': [4, 8, 2, 8, 9, 4], 'GB': [9, 7, 4, 17, 13, 2]}\n"
     ]
    }
   ],
   "source": [
    "\"\"\"\n",
    "Stores information on team scoring events and period for every season\n",
    "\n",
    "i.e.'LAC': [11, 11, 11, 9, 15, 4] means the Chargers had 11 scoring events in the first qtr, 11 scoring events in the second qtr - 2 minute warning, etc.\n",
    "\"\"\"\n",
    "\n",
    "team_list = ['LAC', 'TEN', 'JAX', 'TB', 'HOU', 'LA', 'LV', 'NE', 'BUF', 'CIN', 'BAL', 'PIT', 'ARI', 'ATL', 'NO', 'IND', 'KC', 'CAR', 'MIA', 'PHI', 'DAL', 'SF', 'SEA', 'WAS', 'DEN', 'NYJ', 'CLE', 'MIN', 'DET', 'CHI', 'NYG', 'GB']\n",
    "df_list = [\"pbp_2015.csv\", \"pbp_2016.csv\", \"pbp_2017.csv\", \"pbp_2018.csv\", \"pbp_2019.csv\", \"pbp_2020.csv\", \"pbp_2021.csv\", \"pbp_2022.csv\", \"pbp_2023.csv\"]\n",
    "\n",
    "period_dict_list=[]\n",
    "\n",
    "year_count=2015\n",
    "\n",
    "for df in df_list:\n",
    "\n",
    "    df = pd.read_csv(df)\n",
    "\n",
    "    team_period_dict={}\n",
    "\n",
    "    for team in team_list:\n",
    "        team_period_dict[team]=[0,0,0,0,0,0]\n",
    "\n",
    "    for index, row in df.iterrows():\n",
    "\n",
    "        team=''\n",
    "\n",
    "        if row['season_type']=='REG':\n",
    "\n",
    "            if ((row['touchdown'] == 1 or row['field_goal_result']=='made' or row['safety']==1 or row['defensive_two_point_conv']==1)):\n",
    "\n",
    "                if row['posteam_score_post']>row['posteam_score']:\n",
    "                    team='posteam'\n",
    "                elif row['defteam_score_post']>row['defteam_score']:\n",
    "                    team='defteam'\n",
    "\n",
    "\n",
    "                if(row['qtr']==1):\n",
    "                    team_period_dict[row[team]][0]+=1\n",
    "\n",
    "                if(row['qtr']==2):\n",
    "                    time=(row['time'].split(':'))\n",
    "                    if (int(time[0])>=2):\n",
    "                        team_period_dict[row[team]][1]+=1\n",
    "                    else:\n",
    "                        team_period_dict[row[team]][2]+=1\n",
    "\n",
    "                if(row['qtr']==3):\n",
    "                    team_period_dict[row[team]][3]+=1\n",
    "\n",
    "\n",
    "                if(row['qtr']==4):\n",
    "                    time=(row['time'].split(':'))\n",
    "                    if (int(time[0])>=2):\n",
    "                        team_period_dict[row[team]][4]+=1\n",
    "                    else:\n",
    "                        team_period_dict[row[team]][5]+=1\n",
    "\n",
    "\n",
    "    print(year_count, team_period_dict)\n",
    "    period_dict_list.append(team_period_dict)\n",
    "    year_count+=1"
   ]
  },
  {
   "cell_type": "code",
   "execution_count": 10,
   "id": "583310e7-f7fe-47a4-b3ce-8b723f200555",
   "metadata": {},
   "outputs": [
    {
     "name": "stdout",
     "output_type": "stream",
     "text": [
      "{2015: [('LAC', 61), ('TEN', 50), ('JAX', 70), ('TB', 65), ('HOU', 62), ('LA', 52), ('LV', 64), ('NE', 86), ('BUF', 69), ('CIN', 72), ('BAL', 65), ('PIT', 80), ('ARI', 88), ('ATL', 62), ('NO', 69), ('IND', 61), ('KC', 76), ('CAR', 87), ('MIA', 52), ('PHI', 66), ('DAL', 57), ('SF', 46), ('SEA', 78), ('WAS', 71), ('DEN', 66), ('NYJ', 69), ('CLE', 55), ('MIN', 71), ('DET', 65), ('CHI', 67), ('NYG', 78), ('GB', 66)], 2016: [('LAC', 74), ('TEN', 68), ('JAX', 61), ('TB', 64), ('HOU', 60), ('LA', 43), ('LV', 75), ('NE', 81), ('BUF', 68), ('CIN', 64), ('BAL', 71), ('PIT', 71), ('ARI', 73), ('ATL', 97), ('NO', 84), ('IND', 74), ('KC', 72), ('CAR', 71), ('MIA', 60), ('PHI', 73), ('DAL', 75), ('SF', 55), ('SEA', 70), ('WAS', 77), ('DEN', 64), ('NYJ', 54), ('CLE', 49), ('MIN', 64), ('DET', 68), ('CHI', 51), ('NYG', 57), ('GB', 77)], 2017: [('LAC', 63), ('TEN', 67), ('JAX', 77), ('TB', 63), ('HOU', 61), ('LA', 93), ('LV', 52), ('NE', 88), ('BUF', 59), ('CIN', 52), ('BAL', 76), ('PIT', 79), ('ARI', 59), ('ATL', 70), ('NO', 81), ('IND', 55), ('KC', 83), ('CAR', 69), ('MIA', 54), ('PHI', 82), ('DAL', 64), ('SF', 69), ('SEA', 66), ('WAS', 63), ('DEN', 55), ('NYJ', 56), ('CLE', 42), ('MIN', 74), ('DET', 76), ('CHI', 46), ('NYG', 46), ('GB', 52)], 2018: [('LAC', 76), ('TEN', 59), ('JAX', 50), ('TB', 68), ('HOU', 76), ('LA', 96), ('LV', 56), ('NE', 78), ('BUF', 52), ('CIN', 64), ('BAL', 76), ('PIT', 72), ('ARI', 39), ('ATL', 74), ('NO', 87), ('IND', 74), ('KC', 94), ('CAR', 66), ('MIA', 55), ('PHI', 66), ('DAL', 64), ('SF', 68), ('SEA', 74), ('WAS', 55), ('DEN', 59), ('NYJ', 67), ('CLE', 63), ('MIN', 64), ('DET', 63), ('CHI', 74), ('NYG', 70), ('GB', 70)], 2019: [('LAC', 62), ('TEN', 63), ('JAX', 62), ('TB', 81), ('HOU', 66), ('LA', 71), ('LV', 56), ('NE', 77), ('BUF', 58), ('CIN', 56), ('BAL', 92), ('PIT', 58), ('ARI', 68), ('ATL', 73), ('NO', 85), ('IND', 67), ('KC', 85), ('CAR', 65), ('MIA', 57), ('PHI', 67), ('DAL', 79), ('SF', 86), ('SEA', 70), ('WAS', 53), ('DEN', 57), ('NYJ', 52), ('CLE', 63), ('MIN', 75), ('DET', 63), ('CHI', 54), ('NYG', 56), ('GB', 66)], 2020: [('LAC', 69), ('TEN', 80), ('JAX', 55), ('TB', 88), ('HOU', 71), ('LA', 68), ('LV', 80), ('NE', 62), ('BUF', 88), ('CIN', 60), ('BAL', 83), ('PIT', 74), ('ARI', 72), ('ATL', 79), ('NO', 81), ('IND', 84), ('KC', 82), ('CAR', 67), ('MIA', 78), ('PHI', 57), ('DAL', 76), ('SF', 67), ('SEA', 82), ('WAS', 65), ('DEN', 63), ('NYJ', 48), ('CLE', 71), ('MIN', 70), ('DET', 67), ('CHI', 71), ('NYG', 58), ('GB', 83)], 2021: [('LAC', 81), ('TEN', 73), ('JAX', 49), ('TB', 87), ('HOU', 53), ('LA', 84), ('LV', 72), ('NE', 87), ('BUF', 85), ('CIN', 81), ('BAL', 74), ('PIT', 68), ('ARI', 82), ('ATL', 61), ('NO', 68), ('IND', 82), ('KC', 84), ('CAR', 59), ('MIA', 61), ('PHI', 80), ('DAL', 92), ('SF', 75), ('SEA', 68), ('WAS', 65), ('DEN', 63), ('NYJ', 56), ('CLE', 59), ('MIN', 80), ('DET', 61), ('CHI', 60), ('NYG', 53), ('GB', 78)], 2022: [('LAC', 73), ('TEN', 54), ('JAX', 74), ('TB', 62), ('HOU', 59), ('LA', 60), ('LV', 75), ('NE', 71), ('BUF', 82), ('CIN', 74), ('BAL', 71), ('PIT', 62), ('ARI', 64), ('ATL', 70), ('NO', 60), ('IND', 59), ('KC', 84), ('CAR', 69), ('MIA', 73), ('PHI', 81), ('DAL', 84), ('SF', 79), ('SEA', 77), ('WAS', 62), ('DEN', 58), ('NYJ', 61), ('CLE', 65), ('MIN', 74), ('DET', 79), ('CHI', 62), ('NYG', 69), ('GB', 66)], 2023: [('LAC', 51), ('TEN', 43), ('JAX', 58), ('TB', 44), ('HOU', 56), ('LA', 58), ('LV', 41), ('NE', 29), ('BUF', 60), ('CIN', 51), ('BAL', 64), ('PIT', 41), ('ARI', 45), ('ATL', 47), ('NO', 54), ('IND', 56), ('KC', 55), ('CAR', 40), ('MIA', 62), ('PHI', 58), ('DAL', 71), ('SF', 60), ('SEA', 51), ('WAS', 47), ('DEN', 57), ('NYJ', 45), ('CLE', 59), ('MIN', 48), ('DET', 58), ('CHI', 54), ('NYG', 35), ('GB', 52)]}\n"
     ]
    }
   ],
   "source": [
    "\"\"\"\n",
    "Stores information on total scoring events per team in a season\n",
    "\n",
    "i.e. {2015: [(('LAC'), 61)] means the Chargers had 61 total scoring events in 2015\n",
    "\"\"\"\n",
    "\n",
    "team_list = period_dict_list[0].keys()\n",
    "\n",
    "team_total_scoring_events = {\n",
    "    2015: [],\n",
    "    2016: [],\n",
    "    2017: [],\n",
    "    2018: [],\n",
    "    2019: [],\n",
    "    2020: [],\n",
    "    2021: [],\n",
    "    2022: [],\n",
    "    2023: []\n",
    "}\n",
    "\n",
    "season_count=0\n",
    "for key in team_total_scoring_events:\n",
    "\n",
    "    for team in team_list:\n",
    "\n",
    "        team_total_scoring_events[key]+=[(team, sum(period_dict_list[season_count][team]))]\n",
    "\n",
    "    season_count+=1\n",
    "\n",
    "print(team_total_scoring_events)"
   ]
  },
  {
   "cell_type": "code",
   "execution_count": 11,
   "id": "3499e5ab-cf11-4449-9ce9-a3e0670dabd4",
   "metadata": {},
   "outputs": [
    {
     "name": "stderr",
     "output_type": "stream",
     "text": [
      "C:\\Users\\lcm021\\AppData\\Local\\Temp\\ipykernel_9112\\1914210160.py:20: DtypeWarning: Columns (46,180,181,183,184,190,191,194,195,198,199,204,205,206,207,219,220,221,234,235,236,237,238,239,249,250,254,255,256,261,263,264,284,285,302) have mixed types. Specify dtype option on import or set low_memory=False.\n",
      "  df = pd.read_csv(df)\n"
     ]
    },
    {
     "name": "stdout",
     "output_type": "stream",
     "text": [
      "2015 {'LAC': [[1, 4, 0, 6, 0, 0], [1, 5, 0, 5, 0, 0], [1, 5, 0, 5, 0, 0], [0, 6, 0, 3, 0, 0], [2, 7, 1, 5, 0, 0], [0, 1, 1, 2, 0, 0]], 'TEN': [[1, 7, 0, 4, 0, 0], [0, 5, 0, 5, 0, 0], [0, 3, 0, 0, 0, 0], [0, 8, 2, 4, 0, 0], [1, 6, 1, 1, 0, 0], [2, 0, 0, 0, 0, 0]], 'JAX': [[0, 2, 0, 7, 0, 0], [2, 7, 0, 6, 0, 0], [4, 2, 0, 3, 0, 0], [1, 10, 0, 6, 0, 0], [3, 8, 0, 2, 0, 0], [1, 3, 1, 2, 0, 0]], 'TB': [[0, 4, 0, 10, 0, 0], [1, 9, 0, 5, 0, 0], [1, 3, 0, 2, 0, 0], [1, 6, 1, 6, 0, 0], [1, 5, 0, 4, 0, 0], [1, 4, 0, 1, 0, 0]], 'HOU': [[2, 5, 0, 4, 0, 0], [0, 6, 0, 6, 0, 0], [0, 1, 0, 3, 0, 0], [1, 9, 0, 4, 0, 0], [2, 11, 2, 4, 0, 0], [0, 0, 0, 2, 0, 0]], 'LA': [[1, 7, 0, 4, 1, 0], [1, 5, 1, 7, 0, 0], [0, 2, 0, 3, 0, 0], [1, 7, 0, 3, 0, 0], [0, 5, 0, 2, 0, 0], [0, 1, 0, 1, 0, 0]], 'LV': [[0, 7, 0, 3, 0, 0], [0, 11, 0, 7, 0, 0], [0, 5, 0, 1, 0, 0], [1, 8, 0, 6, 2, 0], [2, 4, 1, 2, 0, 0], [0, 3, 0, 1, 0, 0]], 'NE': [[0, 11, 0, 4, 0, 0], [0, 11, 0, 10, 1, 0], [0, 4, 0, 3, 0, 0], [0, 10, 0, 10, 0, 0], [0, 14, 0, 2, 0, 0], [0, 2, 0, 4, 0, 0]], 'BUF': [[1, 10, 0, 3, 1, 0], [4, 3, 0, 6, 0, 0], [0, 4, 0, 4, 0, 0], [1, 8, 0, 5, 0, 0], [2, 9, 1, 4, 0, 0], [1, 0, 1, 1, 0, 0]], 'CIN': [[0, 12, 0, 2, 0, 0], [0, 10, 0, 7, 0, 0], [0, 5, 0, 0, 0, 0], [1, 9, 1, 5, 0, 0], [0, 11, 0, 5, 0, 0], [0, 1, 0, 3, 0, 0]], 'BAL': [[0, 7, 0, 5, 0, 0], [0, 5, 0, 7, 0, 0], [0, 2, 0, 6, 0, 0], [0, 7, 0, 3, 0, 0], [2, 7, 1, 7, 0, 0], [1, 1, 0, 4, 0, 0]], 'PIT': [[0, 4, 1, 9, 0, 0], [2, 1, 4, 6, 0, 0], [0, 6, 1, 5, 0, 0], [1, 7, 1, 6, 0, 0], [2, 11, 1, 8, 0, 0], [0, 3, 0, 1, 0, 0]], 'ARI': [[0, 11, 0, 3, 0, 0], [1, 14, 0, 5, 1, 0], [0, 2, 0, 6, 0, 0], [1, 17, 0, 5, 1, 0], [3, 7, 0, 7, 0, 0], [0, 2, 0, 2, 0, 0]], 'ATL': [[0, 5, 0, 4, 0, 0], [0, 10, 0, 6, 0, 0], [0, 3, 0, 5, 0, 0], [0, 6, 1, 2, 0, 0], [1, 5, 0, 6, 0, 0], [1, 5, 0, 2, 0, 0]], 'NO': [[0, 16, 0, 3, 0, 0], [1, 9, 0, 2, 0, 0], [0, 2, 0, 2, 0, 1], [1, 7, 1, 6, 0, 0], [3, 7, 0, 3, 0, 0], [0, 3, 0, 2, 0, 0]], 'IND': [[1, 5, 0, 6, 1, 0], [0, 8, 0, 8, 0, 0], [0, 3, 0, 0, 0, 0], [0, 6, 1, 3, 0, 0], [2, 10, 0, 4, 0, 0], [1, 0, 0, 2, 0, 0]], 'KC': [[1, 11, 0, 4, 0, 0], [0, 9, 0, 9, 0, 0], [0, 3, 0, 7, 0, 0], [0, 7, 0, 4, 1, 0], [2, 9, 2, 6, 0, 0], [1, 0, 0, 0, 0, 0]], 'CAR': [[0, 12, 0, 5, 0, 0], [0, 15, 0, 4, 0, 0], [0, 5, 0, 3, 0, 0], [0, 16, 0, 6, 0, 0], [2, 6, 0, 8, 0, 0], [0, 2, 0, 2, 0, 0]], 'MIA': [[0, 5, 0, 4, 0, 0], [2, 7, 0, 2, 0, 0], [0, 5, 1, 1, 0, 0], [0, 8, 1, 1, 0, 0], [1, 6, 0, 5, 0, 0], [1, 2, 0, 0, 0, 0]], 'PHI': [[0, 8, 0, 2, 1, 0], [0, 12, 0, 3, 0, 0], [0, 1, 0, 4, 0, 0], [2, 11, 0, 3, 0, 0], [0, 9, 0, 8, 0, 0], [0, 1, 0, 1, 0, 0]], 'DAL': [[0, 3, 0, 10, 0, 0], [0, 5, 0, 5, 0, 0], [0, 4, 0, 2, 0, 0], [0, 4, 0, 6, 0, 0], [0, 6, 1, 5, 1, 0], [0, 3, 0, 2, 0, 0]], 'SF': [[1, 1, 0, 4, 0, 0], [0, 6, 0, 6, 0, 0], [0, 3, 0, 4, 0, 0], [0, 3, 0, 7, 0, 0], [1, 4, 1, 2, 0, 0], [0, 3, 0, 0, 0, 0]], 'SEA': [[1, 8, 0, 5, 0, 0], [1, 11, 0, 1, 0, 0], [0, 3, 0, 7, 0, 0], [1, 12, 0, 7, 0, 0], [5, 5, 1, 7, 0, 0], [0, 1, 0, 2, 0, 0]], 'WAS': [[1, 12, 0, 4, 0, 0], [0, 9, 0, 5, 0, 0], [0, 2, 0, 6, 0, 0], [0, 7, 0, 4, 0, 0], [1, 6, 2, 6, 0, 0], [0, 4, 0, 1, 1, 0]], 'DEN': [[0, 7, 0, 6, 0, 0], [1, 6, 0, 5, 0, 0], [0, 4, 0, 4, 0, 0], [0, 6, 0, 5, 0, 0], [1, 8, 0, 7, 1, 0], [0, 4, 0, 1, 0, 0]], 'NYJ': [[1, 7, 0, 7, 0, 0], [0, 5, 0, 5, 0, 0], [0, 6, 0, 2, 0, 0], [0, 12, 0, 3, 0, 0], [0, 11, 0, 6, 0, 0], [0, 1, 0, 3, 0, 0]], 'CLE': [[0, 5, 0, 5, 0, 0], [1, 4, 0, 8, 0, 0], [0, 2, 0, 6, 0, 0], [0, 6, 0, 2, 0, 0], [3, 4, 2, 5, 0, 0], [0, 1, 0, 1, 0, 0]], 'MIN': [[1, 7, 0, 7, 0, 0], [1, 4, 0, 6, 0, 0], [1, 3, 0, 4, 0, 0], [1, 9, 1, 5, 0, 0], [0, 7, 0, 10, 0, 0], [0, 3, 0, 1, 0, 0]], 'DET': [[0, 10, 0, 5, 0, 0], [0, 8, 0, 4, 0, 0], [1, 3, 0, 4, 0, 0], [2, 5, 0, 3, 0, 0], [1, 7, 0, 5, 1, 0], [2, 3, 0, 0, 1, 0]], 'CHI': [[1, 2, 0, 7, 0, 0], [0, 11, 0, 4, 0, 0], [0, 3, 0, 5, 0, 0], [0, 3, 0, 8, 0, 0], [1, 8, 2, 6, 0, 0], [2, 1, 0, 3, 0, 0]], 'NYG': [[1, 6, 0, 7, 1, 0], [0, 10, 0, 7, 0, 0], [0, 5, 0, 4, 0, 0], [0, 8, 0, 6, 0, 0], [0, 12, 1, 3, 0, 0], [1, 3, 0, 3, 0, 0]], 'GB': [[0, 13, 0, 5, 0, 0], [0, 3, 0, 5, 0, 0], [0, 2, 0, 2, 0, 0], [0, 9, 1, 5, 0, 0], [0, 8, 3, 6, 0, 0], [2, 1, 0, 1, 0, 0]]}\n"
     ]
    },
    {
     "name": "stderr",
     "output_type": "stream",
     "text": [
      "C:\\Users\\lcm021\\AppData\\Local\\Temp\\ipykernel_9112\\1914210160.py:20: DtypeWarning: Columns (180,181,183,184,190,191,194,195,198,199,204,205,206,207,210,211,219,220,221,249,250,254,255,256,261,263,264,284,285,302) have mixed types. Specify dtype option on import or set low_memory=False.\n",
      "  df = pd.read_csv(df)\n"
     ]
    },
    {
     "name": "stdout",
     "output_type": "stream",
     "text": [
      "2016 {'LAC': [[1, 9, 0, 3, 0, 0], [0, 11, 0, 7, 0, 0], [0, 5, 0, 2, 0, 0], [4, 10, 0, 6, 0, 0], [1, 7, 0, 6, 1, 0], [0, 0, 0, 1, 0, 0]], 'TEN': [[1, 8, 0, 5, 0, 0], [0, 12, 0, 1, 0, 0], [0, 8, 0, 2, 0, 0], [2, 5, 0, 4, 0, 0], [2, 6, 0, 8, 0, 0], [2, 0, 0, 2, 0, 0]], 'JAX': [[0, 6, 0, 3, 0, 0], [1, 3, 0, 8, 0, 0], [1, 3, 0, 4, 0, 0], [0, 5, 1, 7, 0, 0], [1, 10, 1, 4, 0, 0], [0, 2, 0, 1, 0, 0]], 'TB': [[1, 6, 0, 6, 0, 0], [0, 9, 0, 4, 0, 0], [0, 2, 0, 4, 0, 0], [0, 11, 1, 4, 1, 0], [4, 4, 2, 3, 0, 0], [0, 0, 1, 1, 0, 0]], 'HOU': [[0, 5, 0, 4, 0, 0], [0, 6, 0, 5, 0, 0], [0, 0, 0, 5, 1, 0], [1, 5, 0, 8, 0, 0], [1, 5, 0, 11, 0, 0], [1, 1, 0, 1, 0, 0]], 'LA': [[0, 8, 0, 5, 0, 0], [0, 2, 0, 3, 0, 0], [0, 3, 0, 3, 0, 0], [0, 2, 0, 4, 0, 0], [1, 6, 0, 4, 0, 0], [0, 2, 0, 0, 0, 0]], 'LV': [[0, 5, 0, 8, 0, 0], [1, 7, 0, 7, 0, 0], [1, 6, 0, 3, 0, 0], [1, 8, 1, 6, 0, 0], [1, 10, 3, 4, 0, 0], [0, 1, 1, 1, 0, 0]], 'NE': [[1, 15, 0, 5, 2, 0], [0, 10, 0, 5, 0, 0], [0, 3, 0, 2, 0, 0], [2, 11, 0, 5, 1, 0], [0, 6, 1, 10, 0, 0], [1, 1, 0, 0, 0, 0]], 'BUF': [[0, 9, 0, 5, 0, 0], [1, 8, 0, 4, 0, 0], [1, 1, 0, 4, 0, 0], [1, 14, 0, 2, 0, 0], [2, 4, 2, 4, 0, 0], [0, 4, 2, 0, 0, 0]], 'CIN': [[2, 10, 0, 5, 0, 0], [1, 6, 0, 6, 0, 0], [1, 1, 0, 5, 0, 0], [2, 6, 0, 5, 0, 0], [0, 6, 0, 6, 0, 0], [0, 0, 0, 1, 1, 0]], 'BAL': [[0, 10, 0, 7, 0, 1], [0, 2, 0, 6, 0, 0], [0, 2, 0, 12, 0, 0], [1, 4, 2, 4, 0, 0], [0, 8, 2, 8, 0, 0], [0, 1, 0, 1, 0, 0]], 'PIT': [[2, 8, 2, 3, 1, 0], [1, 4, 0, 5, 0, 0], [0, 4, 1, 3, 0, 0], [0, 5, 0, 8, 0, 0], [2, 11, 0, 4, 0, 0], [1, 5, 0, 1, 0, 0]], 'ARI': [[1, 7, 0, 1, 0, 0], [1, 6, 0, 7, 0, 0], [0, 8, 0, 5, 0, 0], [2, 9, 0, 2, 0, 0], [2, 12, 1, 3, 1, 0], [0, 1, 0, 2, 1, 0]], 'ATL': [[0, 16, 0, 9, 0, 0], [0, 14, 0, 9, 0, 0], [1, 2, 0, 4, 0, 0], [1, 14, 2, 5, 0, 0], [2, 8, 0, 6, 0, 0], [0, 2, 0, 1, 0, 0]], 'NO': [[0, 11, 0, 4, 0, 0], [0, 11, 0, 6, 1, 0], [0, 2, 0, 8, 0, 0], [0, 9, 2, 3, 0, 0], [3, 14, 0, 6, 0, 0], [0, 2, 0, 1, 0, 0]], 'IND': [[0, 9, 0, 7, 0, 0], [0, 8, 0, 10, 0, 0], [0, 4, 0, 2, 0, 0], [0, 8, 1, 3, 0, 0], [0, 11, 1, 5, 0, 0], [1, 4, 0, 0, 0, 0]], 'KC': [[1, 10, 0, 4, 0, 0], [1, 10, 0, 3, 1, 0], [0, 3, 0, 3, 0, 0], [0, 7, 0, 4, 0, 0], [0, 4, 1, 12, 0, 1], [1, 2, 1, 3, 0, 0]], 'CAR': [[0, 10, 0, 5, 0, 0], [0, 8, 0, 8, 0, 0], [0, 3, 0, 2, 0, 0], [3, 7, 0, 7, 0, 0], [2, 2, 3, 6, 1, 0], [1, 1, 0, 2, 0, 0]], 'MIA': [[0, 5, 0, 2, 0, 0], [1, 8, 0, 5, 0, 0], [0, 3, 0, 1, 0, 0], [0, 13, 1, 4, 0, 0], [1, 9, 0, 1, 0, 1], [0, 3, 0, 2, 0, 0]], 'PHI': [[0, 5, 0, 7, 0, 0], [0, 8, 2, 4, 0, 0], [0, 2, 0, 7, 0, 0], [1, 11, 0, 3, 1, 0], [1, 2, 2, 14, 0, 0], [1, 2, 0, 0, 0, 0]], 'DAL': [[0, 11, 0, 4, 0, 0], [0, 10, 0, 9, 0, 0], [0, 6, 0, 1, 0, 0], [0, 10, 0, 4, 0, 0], [0, 9, 0, 8, 0, 0], [2, 0, 0, 1, 0, 0]], 'SF': [[0, 9, 0, 4, 0, 0], [0, 10, 0, 6, 0, 0], [1, 1, 0, 1, 0, 0], [0, 2, 0, 3, 1, 0], [0, 9, 0, 4, 0, 0], [0, 2, 2, 0, 0, 0]], 'SEA': [[1, 6, 0, 6, 0, 0], [2, 11, 0, 5, 1, 0], [0, 2, 0, 6, 0, 0], [0, 4, 0, 6, 0, 0], [2, 6, 1, 9, 0, 0], [2, 0, 0, 0, 0, 0]], 'WAS': [[1, 8, 0, 5, 0, 0], [1, 5, 0, 6, 0, 0], [1, 2, 0, 4, 0, 0], [1, 9, 0, 9, 0, 0], [2, 9, 0, 8, 0, 0], [1, 3, 0, 2, 0, 0]], 'DEN': [[0, 4, 0, 4, 0, 0], [0, 9, 0, 5, 0, 0], [1, 1, 0, 5, 0, 0], [0, 5, 0, 2, 0, 0], [1, 13, 0, 8, 0, 0], [0, 0, 1, 4, 0, 1]], 'NYJ': [[0, 4, 0, 6, 0, 0], [2, 6, 0, 7, 0, 0], [0, 2, 0, 2, 0, 0], [0, 5, 0, 3, 0, 0], [0, 7, 1, 8, 0, 0], [0, 0, 0, 1, 0, 0]], 'CLE': [[0, 6, 0, 5, 0, 0], [0, 8, 0, 3, 0, 0], [0, 3, 0, 5, 0, 0], [0, 3, 0, 5, 0, 0], [3, 2, 1, 2, 0, 0], [0, 1, 1, 0, 0, 0]], 'MIN': [[0, 6, 0, 4, 1, 0], [2, 7, 0, 6, 0, 0], [1, 2, 0, 2, 0, 0], [2, 2, 1, 8, 0, 0], [2, 7, 0, 7, 0, 0], [2, 2, 0, 0, 0, 0]], 'DET': [[0, 7, 0, 3, 1, 0], [1, 7, 0, 5, 0, 0], [0, 5, 0, 4, 0, 0], [0, 5, 0, 6, 0, 0], [2, 5, 0, 6, 0, 0], [0, 2, 1, 7, 1, 0]], 'CHI': [[1, 3, 0, 5, 0, 0], [0, 7, 0, 6, 0, 0], [0, 5, 0, 1, 0, 0], [0, 7, 0, 1, 0, 0], [0, 8, 0, 4, 1, 0], [0, 1, 0, 1, 0, 0]], 'NYG': [[1, 6, 0, 2, 0, 0], [0, 8, 0, 5, 0, 0], [1, 3, 0, 2, 0, 0], [1, 5, 0, 6, 0, 0], [1, 7, 0, 5, 0, 0], [1, 2, 0, 1, 0, 0]], 'GB': [[0, 12, 0, 3, 0, 0], [0, 13, 0, 4, 0, 0], [1, 3, 0, 5, 0, 0], [1, 5, 0, 6, 0, 0], [3, 11, 2, 7, 0, 0], [0, 0, 0, 1, 0, 0]]}\n"
     ]
    },
    {
     "name": "stderr",
     "output_type": "stream",
     "text": [
      "C:\\Users\\lcm021\\AppData\\Local\\Temp\\ipykernel_9112\\1914210160.py:20: DtypeWarning: Columns (180,181,183,184,190,191,192,193,194,195,198,199,200,201,204,205,206,207,214,215,219,220,221,249,250,254,255,256,261,263,264,267,268,269,270,284,285,302) have mixed types. Specify dtype option on import or set low_memory=False.\n",
      "  df = pd.read_csv(df)\n"
     ]
    },
    {
     "name": "stdout",
     "output_type": "stream",
     "text": [
      "2017 {'LAC': [[0, 5, 0, 3, 0, 0], [1, 11, 0, 6, 0, 0], [1, 3, 0, 5, 0, 0], [1, 10, 0, 3, 0, 0], [3, 8, 0, 2, 0, 0], [0, 0, 0, 1, 0, 0]], 'TEN': [[0, 4, 0, 8, 0, 0], [2, 5, 0, 5, 0, 0], [0, 2, 0, 9, 0, 0], [0, 10, 0, 7, 0, 0], [0, 7, 0, 4, 0, 0], [0, 3, 0, 1, 0, 0]], 'JAX': [[1, 9, 0, 5, 0, 0], [1, 6, 0, 8, 0, 1], [1, 3, 0, 4, 0, 0], [1, 10, 2, 4, 0, 0], [1, 8, 1, 6, 0, 0], [2, 1, 0, 2, 0, 0]], 'TB': [[1, 6, 0, 8, 0, 0], [2, 3, 0, 3, 0, 0], [0, 1, 0, 5, 0, 0], [1, 6, 0, 3, 0, 0], [4, 11, 1, 4, 0, 0], [0, 1, 1, 2, 0, 0]], 'HOU': [[0, 7, 0, 6, 0, 0], [1, 7, 1, 2, 0, 0], [2, 3, 0, 3, 0, 0], [1, 7, 0, 2, 1, 0], [2, 8, 0, 7, 0, 0], [0, 0, 1, 0, 0, 0]], 'LA': [[2, 11, 0, 10, 0, 0], [0, 14, 0, 7, 0, 0], [0, 3, 0, 7, 0, 0], [1, 14, 0, 5, 0, 0], [0, 6, 0, 11, 2, 0], [0, 0, 0, 0, 0, 0]], 'LV': [[0, 7, 0, 2, 0, 0], [0, 8, 0, 3, 0, 0], [0, 1, 0, 3, 0, 0], [0, 7, 0, 3, 0, 0], [1, 9, 2, 3, 0, 0], [0, 1, 0, 2, 0, 0]], 'NE': [[1, 11, 0, 3, 0, 0], [0, 14, 0, 10, 1, 0], [0, 4, 0, 7, 0, 0], [1, 9, 0, 9, 0, 0], [0, 7, 0, 5, 1, 0], [0, 0, 2, 3, 0, 0]], 'BUF': [[0, 4, 0, 4, 0, 0], [0, 9, 0, 4, 0, 0], [0, 3, 0, 3, 0, 0], [1, 4, 0, 8, 0, 0], [0, 8, 0, 9, 0, 0], [0, 1, 0, 1, 0, 0]], 'CIN': [[2, 7, 0, 2, 0, 0], [0, 9, 0, 6, 0, 0], [0, 3, 0, 3, 0, 0], [0, 5, 0, 3, 0, 0], [0, 6, 0, 4, 0, 0], [0, 2, 0, 0, 0, 0]], 'BAL': [[0, 4, 0, 6, 0, 0], [0, 9, 0, 8, 0, 0], [0, 7, 0, 4, 0, 0], [1, 6, 0, 6, 0, 0], [1, 11, 0, 10, 0, 0], [0, 2, 1, 0, 0, 0]], 'PIT': [[1, 8, 0, 5, 1, 0], [0, 10, 1, 5, 0, 0], [1, 2, 0, 8, 0, 0], [1, 9, 0, 6, 0, 0], [1, 8, 1, 6, 0, 0], [0, 0, 0, 5, 0, 0]], 'ARI': [[0, 6, 0, 5, 0, 0], [1, 8, 0, 5, 0, 0], [0, 2, 0, 3, 0, 0], [1, 4, 0, 7, 0, 0], [0, 3, 1, 10, 0, 0], [2, 0, 0, 1, 0, 0]], 'ATL': [[0, 9, 0, 7, 0, 0], [0, 9, 0, 6, 0, 0], [0, 3, 0, 4, 0, 0], [0, 4, 0, 8, 0, 0], [1, 9, 0, 9, 0, 0], [0, 1, 0, 0, 0, 0]], 'NO': [[1, 11, 0, 8, 0, 0], [0, 9, 0, 2, 0, 0], [0, 4, 0, 6, 0, 0], [2, 11, 0, 3, 0, 0], [0, 9, 0, 10, 0, 0], [0, 3, 1, 1, 0, 0]], 'IND': [[0, 4, 0, 4, 1, 0], [1, 8, 0, 7, 0, 0], [0, 2, 0, 3, 0, 0], [1, 6, 0, 6, 0, 0], [1, 1, 0, 7, 1, 0], [0, 1, 0, 1, 0, 0]], 'KC': [[0, 9, 0, 7, 0, 0], [0, 6, 0, 8, 0, 0], [0, 5, 0, 5, 0, 0], [0, 10, 0, 7, 0, 0], [1, 9, 0, 10, 0, 0], [1, 1, 0, 4, 0, 0]], 'CAR': [[0, 5, 0, 8, 0, 0], [2, 5, 0, 7, 0, 0], [0, 7, 0, 2, 0, 0], [2, 9, 0, 8, 0, 0], [1, 6, 1, 2, 0, 0], [0, 2, 0, 2, 0, 0]], 'MIA': [[0, 3, 0, 6, 1, 0], [1, 7, 0, 3, 0, 0], [0, 0, 0, 1, 0, 0], [0, 8, 0, 5, 0, 0], [2, 7, 0, 3, 1, 0], [1, 1, 1, 3, 0, 0]], 'PHI': [[0, 13, 0, 5, 0, 0], [1, 8, 0, 5, 0, 0], [1, 3, 1, 2, 0, 0], [1, 8, 3, 7, 0, 0], [2, 7, 1, 7, 0, 0], [2, 1, 1, 3, 0, 0]], 'DAL': [[0, 6, 0, 6, 0, 0], [1, 9, 0, 4, 0, 0], [0, 5, 0, 4, 0, 0], [1, 4, 0, 4, 0, 0], [4, 10, 0, 3, 0, 0], [0, 2, 0, 1, 0, 0]], 'SF': [[0, 3, 0, 9, 0, 0], [0, 3, 0, 8, 0, 0], [0, 3, 0, 6, 0, 0], [0, 7, 0, 7, 0, 0], [2, 8, 0, 6, 0, 0], [0, 4, 0, 2, 0, 0]], 'SEA': [[0, 6, 0, 4, 1, 0], [0, 4, 0, 1, 1, 0], [0, 3, 0, 5, 0, 0], [0, 10, 1, 7, 0, 0], [3, 12, 1, 3, 0, 0], [1, 2, 0, 1, 0, 0]], 'WAS': [[0, 8, 0, 6, 0, 0], [1, 10, 0, 3, 0, 0], [0, 3, 0, 3, 0, 0], [0, 5, 0, 5, 0, 0], [2, 8, 0, 4, 0, 0], [0, 2, 0, 3, 0, 0]], 'DEN': [[0, 5, 0, 8, 0, 0], [0, 4, 0, 6, 0, 0], [0, 2, 0, 2, 0, 0], [1, 7, 1, 6, 0, 0], [0, 8, 0, 2, 0, 0], [1, 1, 1, 0, 0, 0]], 'NYJ': [[0, 8, 0, 2, 0, 0], [0, 4, 0, 5, 0, 0], [0, 4, 0, 5, 0, 0], [1, 8, 0, 6, 0, 0], [0, 4, 1, 6, 0, 0], [1, 1, 0, 0, 0, 0]], 'CLE': [[1, 3, 0, 3, 0, 0], [0, 7, 0, 1, 0, 0], [0, 3, 0, 3, 0, 0], [0, 5, 0, 6, 0, 0], [0, 4, 1, 1, 0, 0], [0, 3, 0, 1, 0, 0]], 'MIN': [[1, 8, 0, 5, 0, 0], [1, 9, 0, 3, 1, 0], [1, 5, 0, 4, 0, 0], [2, 6, 1, 7, 0, 0], [0, 6, 1, 11, 0, 0], [0, 0, 0, 2, 0, 0]], 'DET': [[0, 5, 0, 5, 0, 0], [1, 11, 0, 7, 0, 0], [0, 3, 0, 5, 0, 0], [2, 8, 1, 6, 0, 0], [1, 13, 1, 4, 0, 0], [0, 0, 0, 3, 0, 0]], 'CHI': [[2, 4, 0, 2, 1, 0], [0, 5, 0, 4, 0, 0], [0, 3, 0, 5, 0, 0], [0, 5, 0, 2, 0, 0], [1, 8, 1, 2, 0, 0], [0, 1, 0, 0, 0, 0]], 'NYG': [[3, 4, 0, 4, 1, 0], [1, 7, 0, 4, 0, 0], [0, 1, 0, 1, 0, 0], [1, 3, 0, 3, 0, 0], [2, 5, 0, 2, 0, 0], [0, 0, 1, 3, 0, 0]], 'GB': [[1, 9, 0, 3, 0, 0], [0, 6, 0, 0, 0, 0], [1, 1, 0, 2, 0, 0], [0, 5, 0, 4, 0, 0], [2, 8, 1, 5, 0, 0], [0, 4, 0, 0, 0, 0]]}\n"
     ]
    },
    {
     "name": "stderr",
     "output_type": "stream",
     "text": [
      "C:\\Users\\lcm021\\AppData\\Local\\Temp\\ipykernel_9112\\1914210160.py:20: DtypeWarning: Columns (41,42,45,46,50,51,52,53,180,181,183,184,188,189,192,193,194,195,196,197,198,199,200,201,204,205,206,207,208,209,212,213,214,215,216,217,218,219,220,221,223,225,227,228,229,230,231,232,233,241,242,243,247,248,249,250,251,252,253,254,255,256,257,259,260,261,263,264,265,266,267,268,269,270,271,273,274,275,278,279,284,285,302) have mixed types. Specify dtype option on import or set low_memory=False.\n",
      "  df = pd.read_csv(df)\n"
     ]
    },
    {
     "name": "stdout",
     "output_type": "stream",
     "text": [
      "2018 {'LAC': [[3, 6, 0, 6, 0, 0], [2, 11, 0, 1, 0, 0], [0, 6, 1, 3, 0, 0], [2, 10, 1, 3, 0, 0], [2, 3, 3, 9, 0, 1], [0, 0, 1, 2, 0, 0]], 'TEN': [[1, 7, 0, 7, 0, 0], [1, 3, 0, 1, 0, 0], [1, 1, 0, 5, 0, 0], [0, 9, 0, 2, 0, 0], [0, 6, 0, 9, 0, 0], [1, 2, 0, 2, 0, 0]], 'JAX': [[0, 4, 0, 4, 1, 0], [1, 3, 0, 9, 0, 0], [0, 3, 0, 2, 0, 0], [1, 7, 0, 1, 1, 0], [0, 4, 0, 7, 0, 0], [1, 1, 0, 0, 0, 0]], 'TB': [[1, 8, 0, 3, 0, 0], [4, 5, 0, 6, 0, 0], [0, 7, 0, 4, 0, 0], [0, 8, 0, 5, 0, 0], [3, 12, 0, 1, 0, 0], [0, 0, 1, 0, 0, 0]], 'HOU': [[0, 9, 0, 8, 0, 0], [2, 10, 0, 7, 0, 0], [0, 3, 0, 4, 0, 0], [0, 6, 0, 6, 0, 0], [1, 9, 0, 7, 0, 0], [0, 2, 0, 2, 0, 0]], 'LA': [[1, 12, 0, 5, 0, 0], [0, 14, 1, 8, 2, 0], [1, 2, 1, 4, 0, 0], [0, 13, 2, 8, 0, 0], [2, 7, 1, 9, 0, 0], [0, 3, 0, 0, 0, 0]], 'LV': [[0, 7, 0, 3, 0, 0], [0, 6, 0, 6, 0, 0], [1, 1, 0, 3, 0, 0], [1, 6, 0, 5, 0, 0], [0, 6, 0, 6, 0, 0], [0, 1, 1, 3, 0, 0]], 'NE': [[1, 10, 0, 4, 0, 0], [0, 14, 0, 6, 0, 0], [0, 5, 0, 2, 0, 0], [0, 8, 0, 6, 0, 0], [1, 12, 0, 7, 0, 0], [0, 0, 0, 2, 0, 0]], 'BUF': [[0, 11, 0, 1, 0, 0], [1, 3, 0, 4, 0, 0], [0, 1, 0, 2, 0, 0], [0, 4, 0, 11, 1, 0], [1, 5, 1, 3, 0, 0], [1, 1, 0, 1, 0, 0]], 'CIN': [[0, 9, 0, 2, 0, 0], [1, 10, 0, 3, 0, 0], [1, 4, 0, 2, 0, 0], [0, 7, 0, 2, 0, 0], [1, 7, 1, 9, 0, 0], [2, 2, 0, 1, 0, 0]], 'BAL': [[0, 10, 0, 6, 0, 0], [0, 7, 0, 8, 0, 0], [1, 2, 0, 5, 0, 0], [0, 11, 1, 7, 0, 0], [2, 5, 0, 8, 0, 0], [1, 1, 0, 1, 0, 0]], 'PIT': [[3, 7, 0, 1, 0, 0], [1, 10, 1, 7, 0, 0], [0, 6, 2, 1, 0, 0], [2, 12, 0, 1, 1, 0], [0, 7, 0, 6, 1, 0], [0, 2, 1, 0, 0, 0]], 'ARI': [[0, 8, 0, 5, 0, 0], [1, 4, 0, 2, 0, 0], [0, 1, 0, 1, 0, 0], [0, 3, 1, 1, 0, 0], [1, 7, 0, 1, 0, 0], [0, 0, 1, 2, 0, 0]], 'ATL': [[0, 7, 0, 5, 0, 0], [0, 12, 0, 6, 0, 0], [1, 3, 0, 4, 0, 0], [0, 9, 0, 3, 0, 0], [4, 8, 2, 5, 0, 0], [1, 2, 0, 2, 0, 0]], 'NO': [[1, 9, 0, 4, 0, 0], [1, 9, 0, 9, 0, 0], [0, 8, 0, 3, 0, 0], [0, 11, 1, 3, 0, 0], [0, 13, 3, 7, 0, 0], [0, 2, 0, 2, 0, 0]], 'IND': [[0, 11, 0, 2, 0, 0], [1, 9, 1, 5, 0, 0], [0, 2, 1, 7, 0, 0], [0, 10, 1, 3, 0, 0], [3, 9, 0, 4, 0, 0], [0, 3, 1, 1, 0, 0]], 'KC': [[0, 18, 0, 7, 0, 0], [0, 12, 0, 7, 0, 0], [3, 3, 0, 2, 0, 0], [1, 17, 0, 3, 0, 0], [1, 12, 1, 3, 0, 0], [0, 3, 0, 1, 0, 0]], 'CAR': [[1, 12, 0, 2, 0, 0], [1, 14, 0, 4, 0, 0], [0, 0, 0, 4, 0, 0], [0, 4, 0, 4, 0, 0], [4, 6, 2, 3, 0, 1], [1, 1, 0, 2, 0, 0]], 'MIA': [[0, 7, 0, 1, 0, 0], [0, 8, 0, 4, 0, 0], [1, 5, 0, 2, 0, 0], [0, 5, 0, 8, 0, 0], [0, 10, 1, 2, 0, 0], [0, 0, 0, 0, 0, 0]], 'PHI': [[0, 5, 0, 2, 0, 0], [1, 5, 0, 7, 0, 0], [0, 4, 1, 3, 0, 0], [1, 11, 0, 6, 0, 0], [1, 6, 4, 4, 0, 0], [0, 2, 0, 3, 0, 0]], 'DAL': [[0, 7, 0, 9, 0, 0], [0, 2, 0, 3, 0, 0], [0, 6, 0, 4, 0, 0], [0, 6, 0, 7, 0, 0], [1, 10, 1, 4, 0, 0], [0, 1, 1, 2, 0, 0]], 'SF': [[1, 6, 0, 4, 1, 0], [1, 8, 0, 7, 0, 0], [0, 2, 0, 7, 0, 0], [1, 10, 1, 5, 0, 0], [2, 1, 1, 9, 0, 0], [1, 0, 0, 0, 0, 0]], 'SEA': [[2, 9, 0, 1, 0, 0], [0, 13, 0, 4, 0, 0], [0, 2, 0, 4, 0, 0], [0, 9, 0, 3, 0, 0], [1, 12, 1, 7, 0, 0], [0, 3, 0, 3, 0, 0]], 'WAS': [[0, 6, 0, 4, 0, 0], [0, 8, 0, 4, 0, 0], [0, 3, 0, 2, 0, 0], [1, 2, 0, 5, 0, 0], [1, 6, 2, 9, 0, 0], [0, 0, 0, 2, 0, 0]], 'DEN': [[0, 9, 0, 4, 0, 0], [0, 6, 0, 3, 0, 0], [0, 3, 0, 2, 0, 0], [0, 11, 0, 3, 0, 0], [3, 5, 0, 4, 0, 0], [0, 1, 0, 4, 0, 0]], 'NYJ': [[0, 6, 0, 5, 0, 0], [0, 8, 0, 5, 0, 0], [1, 2, 0, 5, 0, 0], [2, 8, 0, 8, 0, 0], [1, 5, 0, 9, 0, 0], [0, 1, 0, 1, 0, 0]], 'CLE': [[0, 6, 0, 5, 1, 0], [3, 4, 1, 3, 0, 0], [2, 1, 0, 4, 0, 0], [2, 8, 2, 3, 0, 0], [3, 8, 1, 3, 0, 0], [2, 1, 0, 0, 0, 0]], 'MIN': [[0, 10, 0, 3, 0, 0], [1, 5, 0, 2, 0, 0], [0, 4, 0, 4, 0, 0], [0, 7, 1, 7, 0, 0], [1, 9, 1, 6, 0, 0], [1, 1, 1, 0, 0, 0]], 'DET': [[0, 9, 0, 2, 0, 0], [1, 4, 0, 10, 0, 0], [0, 4, 0, 3, 0, 0], [2, 4, 0, 6, 0, 0], [2, 9, 0, 6, 0, 0], [0, 0, 0, 1, 0, 0]], 'CHI': [[1, 10, 0, 3, 0, 0], [2, 9, 1, 3, 0, 0], [1, 4, 0, 4, 0, 0], [0, 9, 1, 3, 1, 0], [0, 9, 2, 9, 0, 0], [0, 1, 0, 1, 0, 0]], 'NYG': [[1, 8, 0, 4, 0, 0], [0, 5, 0, 5, 0, 0], [0, 3, 0, 8, 0, 0], [1, 6, 1, 8, 0, 0], [2, 5, 2, 4, 0, 0], [0, 4, 1, 2, 0, 0]], 'GB': [[1, 9, 0, 2, 0, 0], [0, 9, 0, 5, 0, 0], [0, 2, 0, 5, 0, 0], [1, 7, 2, 7, 0, 0], [1, 6, 0, 7, 0, 0], [0, 1, 1, 4, 0, 0]]}\n"
     ]
    },
    {
     "name": "stderr",
     "output_type": "stream",
     "text": [
      "C:\\Users\\lcm021\\AppData\\Local\\Temp\\ipykernel_9112\\1914210160.py:20: DtypeWarning: Columns (46,180,181,183,184,190,191,194,195,198,199,204,205,206,207,210,211,219,220,221,234,235,236,237,238,239,249,250,254,255,256,261,263,264,284,285,302) have mixed types. Specify dtype option on import or set low_memory=False.\n",
      "  df = pd.read_csv(df)\n"
     ]
    },
    {
     "name": "stdout",
     "output_type": "stream",
     "text": [
      "2019 {'LAC': [[0, 5, 0, 6, 0, 0], [0, 8, 0, 3, 0, 0], [0, 5, 0, 5, 0, 0], [0, 7, 1, 4, 0, 0], [0, 9, 0, 5, 0, 0], [0, 1, 0, 3, 0, 0]], 'TEN': [[0, 9, 0, 2, 0, 0], [1, 8, 0, 1, 0, 0], [0, 1, 0, 1, 1, 0], [0, 14, 0, 4, 0, 0], [2, 18, 0, 0, 0, 0], [0, 0, 1, 0, 0, 0]], 'JAX': [[1, 6, 0, 4, 0, 0], [0, 2, 0, 8, 0, 0], [0, 0, 0, 7, 0, 0], [0, 4, 2, 7, 0, 0], [3, 5, 2, 6, 0, 0], [1, 2, 0, 1, 0, 0]], 'TB': [[2, 11, 1, 3, 0, 0], [1, 10, 0, 6, 0, 0], [2, 7, 1, 2, 0, 0], [1, 5, 1, 7, 0, 0], [0, 6, 2, 9, 0, 0], [0, 4, 0, 0, 0, 0]], 'HOU': [[0, 5, 0, 4, 0, 0], [3, 7, 0, 6, 0, 0], [0, 3, 0, 3, 0, 0], [0, 11, 0, 5, 0, 0], [1, 11, 1, 2, 0, 0], [1, 3, 0, 0, 0, 0]], 'LA': [[0, 4, 0, 8, 0, 0], [0, 15, 0, 5, 0, 0], [0, 2, 0, 4, 0, 0], [1, 11, 0, 3, 0, 0], [1, 9, 1, 4, 1, 0], [1, 1, 0, 0, 0, 0]], 'LV': [[0, 10, 0, 5, 0, 0], [0, 9, 0, 4, 0, 0], [0, 5, 0, 1, 0, 0], [0, 3, 0, 2, 0, 0], [0, 4, 0, 7, 0, 0], [2, 3, 0, 0, 0, 0]], 'NE': [[3, 13, 0, 3, 0, 0], [0, 6, 0, 9, 0, 0], [1, 1, 0, 5, 0, 0], [2, 10, 1, 5, 1, 0], [2, 8, 1, 5, 0, 0], [0, 1, 0, 0, 0, 0]], 'BUF': [[0, 2, 1, 7, 0, 0], [0, 9, 0, 7, 0, 0], [1, 2, 0, 1, 0, 0], [1, 5, 0, 4, 1, 0], [0, 10, 2, 2, 0, 0], [0, 2, 0, 1, 0, 0]], 'CIN': [[1, 6, 0, 6, 0, 0], [0, 4, 0, 6, 0, 0], [0, 5, 0, 2, 0, 0], [1, 1, 0, 7, 1, 0], [0, 5, 0, 5, 0, 0], [0, 3, 2, 1, 0, 0]], 'BAL': [[2, 14, 0, 6, 0, 0], [0, 13, 1, 4, 0, 0], [0, 6, 0, 1, 0, 0], [0, 13, 0, 5, 0, 0], [3, 10, 1, 9, 1, 0], [0, 1, 0, 2, 0, 0]], 'PIT': [[0, 5, 0, 4, 0, 0], [0, 5, 0, 6, 0, 0], [0, 4, 0, 5, 0, 0], [0, 11, 0, 4, 0, 0], [1, 3, 0, 9, 0, 0], [0, 0, 0, 1, 0, 0]], 'ARI': [[1, 8, 0, 5, 0, 0], [0, 5, 0, 7, 0, 0], [0, 3, 0, 6, 0, 0], [0, 7, 0, 6, 0, 0], [0, 11, 2, 5, 0, 0], [0, 0, 1, 1, 0, 0]], 'ATL': [[0, 8, 0, 7, 0, 0], [1, 4, 0, 6, 0, 0], [0, 2, 0, 5, 0, 0], [1, 5, 1, 5, 0, 0], [3, 10, 1, 7, 0, 0], [4, 0, 0, 2, 0, 0]], 'NO': [[1, 9, 0, 6, 1, 0], [1, 11, 0, 9, 0, 0], [0, 3, 0, 3, 0, 0], [0, 16, 0, 6, 0, 0], [1, 9, 0, 5, 0, 0], [1, 0, 0, 3, 0, 0]], 'IND': [[0, 11, 0, 4, 0, 0], [2, 6, 0, 5, 0, 0], [1, 2, 0, 5, 0, 0], [1, 7, 1, 5, 1, 0], [3, 6, 0, 2, 1, 0], [0, 1, 1, 1, 0, 1]], 'KC': [[1, 9, 0, 7, 0, 0], [1, 15, 0, 7, 0, 0], [0, 3, 0, 8, 0, 0], [1, 11, 1, 4, 0, 0], [1, 6, 0, 5, 0, 0], [0, 1, 0, 3, 0, 1]], 'CAR': [[1, 6, 0, 4, 0, 0], [0, 5, 0, 6, 0, 0], [1, 4, 0, 3, 0, 0], [1, 7, 1, 6, 1, 0], [3, 6, 0, 5, 1, 0], [0, 3, 0, 1, 0, 0]], 'MIA': [[0, 6, 0, 4, 0, 0], [0, 9, 0, 4, 0, 0], [0, 4, 0, 4, 0, 0], [2, 4, 0, 3, 0, 0], [1, 2, 1, 6, 1, 0], [1, 4, 0, 1, 0, 0]], 'PHI': [[0, 6, 0, 9, 0, 0], [1, 6, 0, 5, 0, 0], [0, 3, 2, 1, 0, 0], [3, 11, 0, 3, 0, 0], [0, 7, 2, 2, 0, 0], [1, 2, 0, 2, 0, 0]], 'DAL': [[0, 7, 0, 6, 0, 0], [0, 9, 0, 4, 0, 0], [0, 7, 0, 5, 0, 0], [0, 10, 0, 6, 0, 0], [0, 12, 2, 8, 0, 0], [1, 1, 0, 1, 0, 0]], 'SF': [[0, 13, 0, 5, 0, 0], [0, 10, 0, 4, 0, 0], [1, 5, 0, 4, 0, 0], [1, 13, 0, 5, 0, 0], [2, 6, 2, 7, 0, 0], [0, 2, 0, 5, 0, 0]], 'SEA': [[2, 8, 0, 3, 0, 0], [0, 9, 0, 4, 0, 0], [2, 2, 0, 3, 0, 0], [1, 9, 1, 2, 0, 0], [1, 12, 0, 7, 0, 0], [0, 0, 0, 3, 0, 0]], 'WAS': [[0, 4, 0, 3, 0, 0], [2, 6, 0, 8, 0, 0], [0, 1, 0, 3, 0, 0], [1, 3, 0, 7, 0, 0], [1, 5, 1, 2, 0, 0], [2, 2, 0, 2, 0, 0]], 'DEN': [[1, 9, 0, 3, 0, 0], [0, 6, 0, 10, 0, 0], [0, 2, 0, 3, 0, 0], [1, 4, 0, 6, 0, 0], [0, 3, 0, 6, 0, 0], [0, 1, 1, 1, 0, 0]], 'NYJ': [[2, 6, 0, 2, 0, 0], [1, 4, 0, 5, 0, 0], [0, 3, 0, 2, 1, 0], [0, 5, 1, 3, 1, 0], [2, 5, 2, 5, 0, 0], [0, 0, 0, 2, 0, 0]], 'CLE': [[2, 8, 0, 3, 0, 0], [2, 7, 0, 8, 0, 0], [1, 1, 0, 4, 0, 0], [0, 7, 0, 4, 0, 0], [2, 5, 1, 5, 0, 0], [0, 2, 0, 1, 0, 0]], 'MIN': [[1, 10, 0, 4, 0, 0], [0, 11, 0, 6, 1, 0], [0, 3, 0, 6, 0, 0], [2, 6, 1, 4, 0, 0], [3, 9, 0, 7, 0, 0], [0, 1, 0, 0, 0, 0]], 'DET': [[1, 12, 0, 4, 0, 0], [0, 7, 0, 7, 0, 0], [0, 1, 0, 5, 0, 0], [0, 6, 0, 5, 0, 0], [2, 9, 0, 4, 0, 0], [0, 0, 0, 0, 0, 0]], 'CHI': [[0, 4, 0, 3, 0, 0], [0, 3, 0, 6, 1, 0], [0, 3, 0, 6, 0, 0], [2, 12, 0, 4, 0, 0], [0, 4, 1, 1, 0, 0], [0, 1, 0, 3, 0, 0]], 'NYG': [[0, 6, 0, 2, 0, 0], [3, 13, 0, 4, 0, 0], [0, 2, 0, 1, 0, 0], [2, 7, 2, 4, 1, 0], [1, 5, 0, 1, 0, 0], [0, 2, 0, 0, 0, 0]], 'GB': [[0, 15, 0, 1, 0, 0], [0, 5, 0, 6, 0, 0], [0, 3, 0, 3, 0, 0], [0, 10, 2, 5, 0, 0], [1, 7, 1, 5, 0, 0], [0, 0, 0, 2, 0, 0]]}\n"
     ]
    },
    {
     "name": "stderr",
     "output_type": "stream",
     "text": [
      "C:\\Users\\lcm021\\AppData\\Local\\Temp\\ipykernel_9112\\1914210160.py:20: DtypeWarning: Columns (180,181,183,184,190,191,194,195,198,199,204,205,206,207,214,215,219,220,221,223,225,227,249,250,254,255,256,261,263,264,267,268,269,270,284,285,302) have mixed types. Specify dtype option on import or set low_memory=False.\n",
      "  df = pd.read_csv(df)\n"
     ]
    },
    {
     "name": "stdout",
     "output_type": "stream",
     "text": [
      "2020 {'LAC': [[3, 7, 0, 2, 0, 0], [0, 12, 0, 3, 0, 0], [0, 4, 1, 5, 1, 0], [1, 9, 1, 4, 0, 0], [2, 3, 0, 8, 0, 0], [0, 1, 0, 2, 0, 0]], 'TEN': [[0, 12, 0, 4, 0, 0], [0, 12, 0, 2, 0, 0], [0, 6, 0, 4, 0, 0], [3, 9, 1, 4, 0, 0], [2, 7, 3, 2, 0, 0], [0, 5, 0, 4, 0, 0]], 'JAX': [[1, 3, 0, 6, 0, 0], [1, 6, 1, 3, 0, 0], [1, 2, 0, 3, 0, 0], [1, 8, 1, 2, 0, 0], [5, 4, 0, 3, 0, 0], [1, 1, 1, 1, 0, 0]], 'TB': [[1, 10, 0, 4, 0, 0], [1, 13, 0, 3, 0, 0], [0, 6, 0, 3, 0, 0], [4, 8, 0, 10, 1, 0], [1, 14, 0, 8, 0, 0], [0, 1, 0, 0, 0, 0]], 'HOU': [[1, 6, 0, 4, 0, 0], [0, 9, 0, 4, 0, 0], [0, 4, 0, 7, 0, 0], [3, 7, 0, 5, 0, 0], [1, 10, 1, 6, 0, 0], [1, 1, 0, 1, 0, 0]], 'LA': [[1, 9, 0, 4, 0, 0], [1, 7, 0, 7, 1, 0], [0, 2, 0, 3, 0, 0], [1, 9, 0, 6, 0, 0], [1, 11, 1, 4, 0, 0], [0, 0, 0, 0, 0, 0]], 'LV': [[0, 9, 0, 5, 0, 0], [0, 8, 0, 8, 0, 0], [0, 6, 0, 4, 0, 0], [0, 8, 0, 7, 0, 0], [2, 8, 0, 6, 0, 0], [0, 6, 1, 2, 0, 0]], 'NE': [[0, 5, 0, 1, 0, 0], [1, 5, 0, 9, 0, 0], [1, 3, 0, 3, 0, 0], [0, 8, 1, 6, 0, 0], [3, 8, 0, 5, 0, 0], [0, 1, 0, 2, 0, 0]], 'BUF': [[0, 12, 0, 2, 0, 0], [0, 16, 0, 8, 0, 0], [1, 3, 0, 4, 0, 0], [0, 11, 0, 5, 0, 0], [2, 12, 0, 9, 0, 0], [0, 3, 0, 0, 0, 0]], 'CIN': [[0, 7, 0, 4, 0, 0], [1, 6, 0, 5, 0, 0], [0, 5, 0, 3, 0, 0], [0, 5, 0, 6, 0, 0], [0, 6, 0, 5, 0, 0], [0, 3, 0, 4, 0, 0]], 'BAL': [[0, 14, 0, 6, 1, 0], [0, 12, 1, 6, 0, 0], [0, 4, 0, 3, 0, 0], [1, 12, 0, 3, 0, 0], [0, 10, 0, 6, 0, 0], [0, 0, 1, 2, 1, 0]], 'PIT': [[2, 5, 0, 5, 0, 0], [1, 12, 0, 6, 0, 0], [1, 4, 0, 4, 0, 0], [0, 8, 0, 4, 0, 0], [2, 12, 2, 4, 1, 0], [1, 0, 0, 0, 0, 0]], 'ARI': [[0, 12, 0, 4, 1, 0], [0, 9, 0, 5, 0, 0], [1, 1, 0, 6, 0, 0], [0, 12, 0, 2, 0, 0], [2, 10, 0, 3, 0, 0], [1, 1, 0, 2, 0, 0]], 'ATL': [[1, 7, 0, 12, 0, 0], [2, 8, 0, 6, 0, 0], [0, 3, 0, 8, 0, 0], [1, 7, 0, 5, 0, 0], [2, 8, 0, 6, 0, 0], [0, 1, 1, 1, 0, 0]], 'NO': [[0, 10, 0, 4, 0, 0], [1, 11, 0, 3, 0, 0], [0, 10, 0, 4, 1, 0], [1, 10, 0, 6, 0, 0], [0, 13, 0, 3, 0, 0], [0, 3, 0, 1, 0, 0]], 'IND': [[0, 14, 0, 3, 0, 0], [0, 14, 0, 4, 1, 0], [1, 2, 0, 8, 0, 0], [0, 6, 1, 6, 0, 0], [3, 6, 2, 10, 2, 0], [0, 1, 0, 0, 0, 0]], 'KC': [[1, 10, 0, 6, 0, 0], [2, 13, 0, 2, 0, 0], [0, 4, 0, 4, 0, 0], [0, 11, 0, 4, 1, 0], [3, 8, 3, 4, 0, 0], [0, 2, 0, 4, 0, 0]], 'CAR': [[2, 8, 0, 7, 0, 0], [1, 7, 0, 5, 0, 0], [0, 4, 0, 3, 0, 0], [0, 7, 0, 3, 0, 0], [1, 6, 1, 9, 0, 0], [0, 1, 0, 2, 0, 0]], 'MIA': [[0, 13, 0, 4, 0, 0], [0, 8, 0, 7, 0, 0], [0, 1, 0, 9, 0, 0], [0, 6, 0, 5, 0, 0], [2, 8, 2, 9, 0, 0], [0, 0, 2, 2, 0, 0]], 'PHI': [[0, 6, 1, 4, 0, 0], [1, 7, 0, 5, 0, 0], [2, 3, 0, 0, 0, 0], [3, 1, 3, 3, 0, 0], [3, 5, 2, 2, 1, 0], [2, 2, 1, 0, 0, 0]], 'DAL': [[2, 5, 0, 10, 0, 0], [1, 10, 0, 5, 0, 0], [0, 3, 0, 6, 0, 0], [0, 7, 0, 6, 0, 0], [2, 3, 4, 5, 0, 0], [0, 5, 0, 2, 0, 0]], 'SF': [[0, 11, 0, 4, 0, 0], [1, 5, 0, 2, 0, 0], [0, 4, 0, 3, 0, 0], [0, 8, 0, 7, 0, 0], [4, 6, 1, 4, 0, 0], [0, 4, 0, 2, 0, 0]], 'SEA': [[1, 9, 0, 5, 1, 0], [1, 8, 0, 6, 0, 0], [1, 4, 0, 4, 1, 0], [0, 16, 0, 2, 0, 0], [1, 10, 0, 5, 1, 0], [1, 2, 1, 2, 0, 0]], 'WAS': [[0, 6, 0, 2, 1, 0], [1, 3, 0, 5, 0, 0], [0, 4, 0, 5, 0, 0], [1, 7, 0, 5, 0, 0], [4, 9, 0, 8, 0, 0], [1, 1, 0, 2, 0, 0]], 'DEN': [[2, 3, 0, 7, 0, 0], [0, 3, 0, 7, 0, 0], [1, 3, 0, 2, 0, 0], [3, 3, 1, 8, 0, 0], [1, 10, 1, 4, 0, 0], [1, 3, 0, 0, 0, 0]], 'NYJ': [[1, 5, 0, 6, 0, 0], [2, 2, 0, 7, 0, 0], [0, 2, 0, 2, 0, 0], [1, 7, 0, 3, 0, 0], [1, 2, 1, 3, 0, 0], [0, 2, 0, 0, 1, 0]], 'CLE': [[1, 6, 0, 5, 0, 0], [0, 14, 0, 4, 0, 0], [1, 5, 0, 2, 0, 0], [1, 6, 0, 5, 1, 0], [1, 11, 2, 1, 1, 0], [1, 1, 0, 2, 0, 0]], 'MIN': [[1, 12, 0, 1, 0, 0], [2, 3, 0, 2, 0, 0], [0, 4, 0, 5, 0, 0], [3, 11, 1, 4, 0, 0], [4, 6, 5, 2, 1, 0], [0, 1, 2, 0, 0, 0]], 'DET': [[2, 11, 0, 2, 0, 0], [0, 6, 0, 3, 1, 0], [1, 4, 0, 3, 0, 0], [1, 8, 0, 5, 0, 0], [1, 7, 2, 5, 0, 0], [0, 2, 0, 3, 0, 0]], 'CHI': [[1, 6, 0, 8, 0, 0], [0, 5, 0, 7, 1, 0], [0, 7, 0, 5, 0, 0], [0, 6, 0, 2, 0, 0], [1, 9, 1, 5, 0, 0], [0, 3, 1, 3, 0, 0]], 'NYG': [[1, 8, 0, 4, 0, 0], [0, 4, 0, 6, 0, 0], [0, 2, 0, 4, 0, 0], [1, 3, 1, 7, 0, 0], [0, 4, 1, 10, 0, 0], [2, 0, 0, 0, 0, 0]], 'GB': [[2, 8, 0, 4, 0, 0], [2, 20, 0, 2, 1, 0], [0, 8, 0, 1, 0, 0], [1, 13, 0, 2, 0, 0], [0, 10, 2, 6, 0, 0], [0, 0, 0, 1, 0, 0]]}\n"
     ]
    },
    {
     "name": "stderr",
     "output_type": "stream",
     "text": [
      "C:\\Users\\lcm021\\AppData\\Local\\Temp\\ipykernel_9112\\1914210160.py:20: DtypeWarning: Columns (180,181,183,184,190,191,194,195,198,199,204,205,206,207,219,220,221,234,235,236,237,238,239,254,255,256,261,263,264,284,285,302) have mixed types. Specify dtype option on import or set low_memory=False.\n",
      "  df = pd.read_csv(df)\n"
     ]
    },
    {
     "name": "stdout",
     "output_type": "stream",
     "text": [
      "2021 {'LAC': [[1, 9, 0, 4, 0, 0], [4, 7, 3, 4, 0, 0], [0, 6, 0, 2, 0, 0], [1, 2, 1, 8, 0, 0], [2, 14, 3, 3, 0, 0], [3, 2, 0, 2, 0, 0]], 'TEN': [[0, 7, 0, 4, 0, 0], [2, 13, 0, 8, 0, 0], [0, 4, 0, 4, 0, 0], [1, 8, 0, 1, 0, 0], [0, 7, 2, 6, 0, 0], [1, 4, 0, 1, 0, 0]], 'JAX': [[2, 3, 0, 5, 0, 0], [1, 5, 0, 3, 0, 0], [1, 2, 0, 4, 0, 0], [1, 3, 1, 3, 0, 0], [3, 3, 1, 5, 0, 0], [0, 2, 0, 1, 0, 0]], 'TB': [[1, 14, 0, 1, 0, 0], [0, 10, 0, 8, 0, 0], [1, 7, 0, 2, 0, 0], [0, 15, 0, 3, 0, 0], [3, 8, 0, 9, 0, 0], [0, 2, 1, 2, 0, 0]], 'HOU': [[1, 7, 0, 1, 1, 0], [2, 3, 0, 9, 0, 0], [1, 3, 0, 4, 0, 0], [0, 4, 0, 2, 0, 0], [0, 7, 2, 5, 0, 0], [0, 1, 0, 0, 0, 0]], 'LA': [[0, 6, 0, 7, 0, 0], [0, 11, 0, 7, 0, 0], [0, 6, 0, 5, 0, 0], [1, 14, 0, 3, 0, 0], [0, 9, 2, 6, 0, 0], [1, 2, 0, 4, 0, 0]], 'LV': [[0, 7, 0, 5, 1, 0], [0, 4, 0, 6, 0, 0], [0, 4, 0, 8, 0, 0], [2, 10, 0, 4, 0, 0], [4, 5, 0, 7, 0, 0], [0, 0, 0, 5, 0, 0]], 'NE': [[0, 9, 1, 2, 0, 0], [1, 11, 0, 6, 0, 0], [0, 3, 0, 7, 0, 0], [2, 5, 0, 10, 0, 0], [2, 14, 2, 10, 0, 0], [1, 0, 0, 1, 0, 0]], 'BUF': [[0, 12, 0, 6, 0, 0], [0, 7, 0, 8, 0, 0], [0, 5, 0, 5, 0, 0], [1, 10, 2, 5, 0, 0], [1, 17, 1, 2, 0, 0], [1, 0, 0, 2, 0, 0]], 'CIN': [[0, 7, 0, 6, 0, 0], [1, 11, 0, 0, 0, 0], [0, 6, 0, 7, 0, 0], [2, 9, 0, 9, 0, 0], [3, 13, 1, 2, 0, 0], [0, 1, 0, 3, 0, 0]], 'BAL': [[0, 6, 0, 3, 0, 0], [0, 8, 0, 7, 0, 0], [0, 3, 0, 7, 0, 0], [1, 6, 0, 8, 0, 0], [3, 7, 1, 4, 0, 0], [2, 2, 1, 5, 0, 0]], 'PIT': [[0, 4, 0, 3, 0, 0], [0, 5, 0, 6, 0, 0], [0, 3, 0, 1, 0, 0], [2, 3, 0, 7, 0, 0], [3, 11, 1, 15, 0, 0], [0, 1, 1, 2, 0, 0]], 'ARI': [[1, 13, 0, 3, 0, 0], [0, 10, 0, 5, 0, 0], [1, 2, 0, 6, 0, 0], [1, 14, 0, 8, 0, 0], [2, 8, 0, 5, 0, 0], [0, 0, 0, 3, 0, 0]], 'ATL': [[0, 4, 0, 8, 1, 0], [0, 9, 0, 6, 0, 0], [0, 5, 0, 5, 0, 0], [1, 5, 1, 3, 0, 0], [1, 6, 0, 1, 0, 0], [0, 1, 0, 4, 0, 0]], 'NO': [[0, 4, 0, 4, 0, 0], [2, 5, 0, 5, 0, 0], [1, 6, 0, 2, 0, 0], [1, 4, 0, 4, 0, 0], [6, 9, 0, 9, 0, 0], [2, 3, 0, 1, 0, 0]], 'IND': [[0, 14, 0, 3, 0, 0], [0, 7, 0, 6, 1, 0], [1, 5, 0, 6, 0, 0], [2, 11, 1, 4, 0, 0], [1, 7, 1, 10, 0, 0], [0, 2, 0, 0, 0, 0]], 'KC': [[1, 16, 0, 4, 0, 0], [1, 9, 0, 5, 0, 0], [0, 4, 0, 4, 0, 0], [0, 10, 0, 7, 0, 0], [2, 10, 2, 7, 0, 0], [0, 1, 0, 1, 0, 0]], 'CAR': [[0, 11, 0, 6, 0, 0], [1, 3, 0, 9, 1, 0], [0, 2, 1, 3, 0, 0], [0, 3, 1, 2, 0, 0], [2, 7, 0, 6, 0, 0], [0, 0, 1, 0, 0, 0]], 'MIA': [[0, 12, 0, 3, 0, 0], [0, 3, 0, 8, 0, 0], [0, 2, 0, 3, 0, 0], [1, 7, 0, 0, 0, 0], [1, 10, 1, 7, 0, 0], [0, 0, 1, 1, 0, 0]], 'PHI': [[0, 11, 0, 4, 0, 0], [0, 7, 0, 7, 0, 0], [0, 2, 1, 4, 0, 0], [0, 13, 0, 7, 0, 0], [0, 10, 4, 6, 0, 0], [1, 1, 0, 2, 0, 0]], 'DAL': [[2, 14, 1, 4, 0, 0], [3, 6, 0, 6, 0, 0], [1, 6, 1, 4, 0, 0], [3, 10, 0, 5, 0, 0], [1, 9, 3, 5, 0, 0], [0, 2, 1, 5, 0, 0]], 'SF': [[1, 8, 0, 6, 0, 0], [0, 7, 0, 3, 0, 0], [1, 7, 0, 5, 0, 0], [2, 12, 0, 4, 0, 0], [1, 6, 1, 7, 0, 0], [0, 2, 1, 1, 0, 0]], 'SEA': [[0, 10, 0, 4, 0, 0], [0, 11, 0, 1, 0, 0], [1, 5, 0, 5, 0, 1], [0, 10, 0, 2, 1, 0], [2, 7, 1, 4, 0, 0], [1, 1, 0, 1, 0, 0]], 'WAS': [[0, 4, 0, 10, 0, 0], [1, 8, 0, 4, 0, 0], [0, 3, 0, 4, 0, 0], [2, 4, 2, 3, 0, 0], [4, 6, 0, 4, 0, 0], [2, 0, 0, 3, 0, 0]], 'DEN': [[1, 6, 0, 2, 0, 0], [0, 5, 0, 9, 0, 0], [0, 5, 0, 3, 0, 0], [0, 7, 0, 5, 0, 0], [2, 8, 1, 6, 0, 0], [0, 2, 0, 1, 0, 0]], 'NYJ': [[3, 5, 0, 2, 0, 0], [1, 6, 0, 3, 0, 0], [0, 1, 1, 4, 0, 0], [3, 3, 1, 4, 0, 0], [1, 8, 2, 4, 0, 0], [1, 0, 0, 3, 0, 0]], 'CLE': [[1, 6, 1, 4, 0, 0], [1, 9, 0, 2, 0, 0], [1, 5, 1, 3, 0, 0], [0, 8, 0, 4, 0, 0], [0, 8, 1, 3, 0, 0], [0, 1, 0, 0, 0, 0]], 'MIN': [[2, 8, 0, 6, 0, 0], [2, 9, 0, 6, 0, 0], [0, 1, 0, 5, 0, 0], [4, 10, 0, 6, 0, 0], [1, 7, 1, 6, 0, 0], [1, 1, 0, 4, 0, 0]], 'DET': [[0, 4, 0, 4, 0, 0], [0, 10, 0, 3, 0, 0], [0, 1, 0, 7, 0, 0], [1, 8, 1, 3, 0, 0], [1, 3, 1, 7, 0, 0], [0, 1, 3, 2, 0, 0]], 'CHI': [[0, 5, 0, 4, 0, 0], [0, 8, 0, 3, 0, 0], [0, 3, 1, 7, 1, 0], [0, 6, 0, 5, 0, 0], [1, 4, 1, 4, 0, 0], [1, 1, 1, 3, 0, 0]], 'NYG': [[0, 3, 0, 5, 0, 0], [0, 5, 0, 9, 1, 0], [0, 0, 0, 0, 0, 0], [0, 4, 0, 5, 0, 0], [1, 5, 3, 9, 0, 0], [0, 0, 1, 1, 0, 0]], 'GB': [[0, 6, 0, 3, 0, 0], [2, 10, 0, 7, 0, 0], [0, 9, 0, 2, 0, 0], [1, 12, 0, 7, 0, 0], [1, 11, 1, 4, 0, 0], [0, 1, 0, 1, 0, 0]]}\n"
     ]
    },
    {
     "name": "stderr",
     "output_type": "stream",
     "text": [
      "C:\\Users\\lcm021\\AppData\\Local\\Temp\\ipykernel_9112\\1914210160.py:20: DtypeWarning: Columns (46,180,181,183,184,188,189,190,191,194,195,198,199,204,205,206,207,214,215,219,220,221,223,225,227,244,245,246,249,250,254,255,256,261,263,264,267,268,269,270,284,285) have mixed types. Specify dtype option on import or set low_memory=False.\n",
      "  df = pd.read_csv(df)\n"
     ]
    },
    {
     "name": "stdout",
     "output_type": "stream",
     "text": [
      "2022 {'LAC': [[0, 5, 0, 4, 0, 0], [0, 19, 0, 5, 0, 0], [0, 3, 0, 8, 0, 0], [0, 4, 0, 7, 0, 0], [0, 6, 1, 4, 1, 0], [0, 2, 1, 2, 0, 0]], 'TEN': [[0, 11, 0, 2, 0, 0], [0, 10, 0, 6, 0, 0], [0, 3, 0, 4, 0, 0], [1, 6, 0, 3, 0, 0], [0, 1, 1, 5, 0, 0], [0, 1, 0, 0, 0, 0]], 'JAX': [[0, 6, 1, 4, 0, 0], [0, 9, 0, 8, 0, 0], [0, 2, 0, 5, 0, 0], [3, 8, 2, 5, 0, 0], [1, 9, 0, 6, 0, 0], [0, 0, 1, 2, 0, 0]], 'TB': [[0, 3, 0, 10, 0, 0], [0, 6, 0, 4, 0, 0], [0, 3, 0, 7, 0, 0], [0, 4, 1, 3, 0, 0], [2, 5, 1, 6, 0, 0], [4, 2, 0, 0, 0, 0]], 'HOU': [[0, 7, 0, 4, 0, 0], [0, 8, 0, 8, 1, 0], [0, 1, 0, 1, 0, 0], [1, 7, 0, 10, 0, 0], [2, 4, 0, 5, 0, 0], [1, 1, 1, 1, 0, 0]], 'LA': [[1, 7, 0, 9, 0, 0], [0, 8, 0, 5, 0, 0], [0, 5, 0, 3, 0, 0], [1, 4, 0, 6, 0, 0], [0, 6, 1, 4, 0, 0], [0, 2, 0, 1, 0, 0]], 'LV': [[0, 8, 0, 8, 0, 0], [1, 10, 0, 5, 0, 0], [0, 4, 0, 6, 0, 0], [0, 7, 0, 7, 0, 0], [3, 5, 0, 7, 0, 0], [1, 3, 0, 1, 0, 0]], 'NE': [[0, 4, 0, 6, 0, 0], [0, 8, 0, 7, 0, 0], [0, 1, 0, 5, 0, 0], [2, 9, 0, 9, 0, 0], [4, 6, 1, 4, 0, 0], [0, 1, 0, 1, 0, 0]], 'BUF': [[1, 11, 0, 4, 0, 0], [0, 10, 0, 5, 0, 0], [0, 9, 0, 2, 0, 0], [1, 10, 1, 7, 1, 0], [1, 6, 1, 5, 0, 0], [0, 3, 0, 4, 1, 0]], 'CIN': [[2, 11, 0, 4, 0, 0], [0, 11, 0, 4, 0, 0], [1, 5, 0, 3, 0, 0], [1, 6, 2, 7, 0, 0], [1, 6, 1, 6, 0, 0], [2, 2, 0, 0, 0, 0]], 'BAL': [[0, 6, 0, 8, 0, 0], [0, 6, 1, 8, 0, 0], [0, 5, 0, 3, 0, 0], [0, 8, 0, 8, 0, 0], [1, 5, 1, 9, 0, 0], [0, 1, 0, 1, 0, 0]], 'PIT': [[0, 5, 0, 6, 0, 0], [0, 7, 0, 7, 0, 0], [0, 3, 0, 7, 0, 0], [0, 3, 0, 7, 0, 0], [0, 4, 3, 4, 0, 0], [0, 3, 0, 2, 0, 0]], 'ARI': [[1, 2, 0, 7, 0, 0], [0, 6, 1, 6, 0, 0], [1, 4, 1, 6, 0, 0], [1, 6, 0, 3, 0, 0], [3, 7, 2, 5, 0, 0], [0, 0, 1, 1, 0, 0]], 'ATL': [[0, 7, 0, 6, 0, 0], [0, 7, 0, 4, 0, 0], [0, 4, 0, 6, 0, 0], [1, 10, 0, 4, 0, 0], [1, 5, 2, 8, 0, 0], [0, 0, 0, 3, 1, 0]], 'NO': [[0, 8, 0, 3, 0, 0], [0, 8, 0, 5, 0, 0], [0, 1, 0, 4, 0, 0], [0, 9, 0, 5, 0, 0], [1, 7, 3, 3, 0, 0], [0, 0, 0, 3, 0, 0]], 'IND': [[0, 6, 0, 4, 0, 0], [0, 3, 0, 9, 0, 0], [0, 0, 0, 6, 0, 0], [3, 7, 0, 6, 0, 0], [1, 4, 0, 5, 0, 0], [0, 2, 1, 1, 0, 0]], 'KC': [[2, 9, 0, 6, 0, 0], [2, 14, 0, 2, 0, 0], [2, 2, 1, 5, 0, 0], [0, 14, 0, 4, 0, 0], [1, 9, 2, 5, 1, 0], [0, 1, 0, 1, 0, 0]], 'CAR': [[0, 5, 0, 4, 0, 0], [0, 8, 0, 6, 0, 0], [0, 3, 0, 4, 0, 0], [2, 6, 0, 3, 0, 0], [2, 7, 1, 11, 0, 0], [1, 1, 0, 5, 0, 0]], 'MIA': [[0, 8, 0, 7, 0, 0], [0, 12, 0, 9, 0, 0], [1, 3, 0, 2, 0, 0], [2, 9, 0, 4, 0, 0], [1, 6, 0, 2, 0, 0], [1, 2, 0, 2, 1, 0]], 'PHI': [[1, 11, 0, 2, 0, 0], [0, 18, 0, 5, 0, 0], [1, 5, 0, 6, 0, 0], [0, 10, 0, 4, 0, 0], [2, 8, 2, 4, 0, 0], [0, 1, 0, 1, 0, 0]], 'DAL': [[0, 11, 0, 5, 0, 0], [0, 9, 0, 5, 0, 0], [2, 4, 0, 5, 0, 0], [0, 13, 0, 5, 0, 0], [2, 12, 0, 7, 0, 0], [0, 2, 0, 2, 0, 0]], 'SF': [[0, 9, 0, 6, 0, 0], [0, 13, 0, 2, 0, 0], [0, 7, 0, 2, 0, 0], [0, 12, 0, 7, 0, 0], [2, 8, 0, 8, 0, 0], [0, 2, 0, 1, 0, 0]], 'SEA': [[0, 10, 0, 9, 0, 0], [0, 9, 0, 5, 0, 0], [1, 2, 0, 5, 0, 0], [1, 4, 0, 9, 0, 0], [2, 12, 0, 5, 0, 0], [0, 2, 0, 0, 0, 0]], 'WAS': [[0, 5, 0, 4, 0, 0], [1, 8, 0, 3, 0, 0], [0, 3, 0, 5, 0, 0], [2, 6, 1, 3, 0, 0], [4, 1, 0, 10, 1, 0], [2, 2, 1, 0, 0, 0]], 'DEN': [[1, 4, 0, 7, 0, 0], [0, 5, 0, 9, 0, 0], [1, 3, 0, 5, 0, 0], [0, 5, 0, 2, 1, 0], [1, 8, 1, 5, 0, 0], [0, 1, 0, 0, 0, 0]], 'NYJ': [[0, 3, 0, 9, 1, 0], [0, 7, 0, 3, 0, 0], [0, 2, 0, 7, 0, 0], [0, 5, 0, 3, 0, 0], [0, 7, 0, 6, 1, 0], [1, 4, 0, 2, 0, 0]], 'CLE': [[0, 8, 0, 4, 0, 0], [1, 7, 1, 4, 0, 0], [0, 0, 0, 5, 0, 0], [0, 7, 0, 6, 0, 0], [2, 8, 0, 4, 0, 0], [1, 2, 0, 1, 0, 0]], 'MIN': [[1, 10, 0, 3, 0, 0], [0, 10, 0, 5, 0, 0], [1, 2, 0, 4, 0, 0], [1, 7, 0, 2, 0, 0], [4, 10, 3, 7, 0, 0], [0, 2, 0, 3, 0, 0]], 'DET': [[1, 11, 0, 5, 1, 0], [0, 9, 0, 7, 0, 0], [1, 3, 1, 4, 0, 0], [1, 10, 1, 2, 0, 0], [0, 12, 2, 3, 0, 0], [0, 2, 0, 3, 0, 0]], 'CHI': [[0, 7, 0, 10, 0, 0], [3, 5, 0, 2, 0, 0], [0, 5, 0, 4, 0, 0], [2, 7, 1, 6, 0, 0], [4, 5, 0, 2, 0, 0], [0, 0, 0, 1, 0, 0]], 'NYG': [[1, 3, 0, 4, 0, 0], [0, 9, 0, 3, 0, 0], [0, 3, 0, 4, 0, 0], [1, 8, 0, 9, 0, 0], [3, 5, 1, 8, 0, 0], [0, 3, 2, 1, 0, 0]], 'GB': [[1, 8, 0, 6, 0, 0], [1, 9, 0, 3, 0, 0], [0, 4, 0, 4, 0, 0], [1, 8, 1, 4, 0, 0], [0, 9, 0, 5, 0, 0], [0, 0, 1, 1, 1, 0]]}\n"
     ]
    },
    {
     "name": "stderr",
     "output_type": "stream",
     "text": [
      "C:\\Users\\lcm021\\AppData\\Local\\Temp\\ipykernel_9112\\1914210160.py:20: DtypeWarning: Columns (180,181,183,184,204,205,206,207,219,220,221,223,225,227,254,255,256,261,263,264,284,285,333) have mixed types. Specify dtype option on import or set low_memory=False.\n",
      "  df = pd.read_csv(df)\n"
     ]
    },
    {
     "name": "stdout",
     "output_type": "stream",
     "text": [
      "2023 {'LAC': [[0, 8, 0, 5, 0, 0], [0, 7, 1, 4, 0, 0], [0, 3, 0, 3, 0, 0], [0, 3, 0, 4, 0, 0], [0, 10, 0, 2, 0, 0], [0, 0, 0, 1, 0, 0]], 'TEN': [[0, 3, 0, 8, 0, 0], [0, 7, 0, 2, 0, 0], [0, 1, 0, 4, 0, 0], [0, 5, 0, 4, 0, 1], [1, 3, 0, 3, 0, 0], [0, 0, 0, 1, 0, 0]], 'JAX': [[0, 5, 1, 4, 0, 0], [0, 8, 0, 5, 0, 0], [0, 1, 0, 4, 0, 0], [0, 8, 2, 3, 0, 0], [0, 8, 0, 7, 0, 0], [1, 0, 0, 1, 0, 0]], 'TB': [[0, 3, 0, 4, 0, 0], [0, 6, 0, 4, 0, 0], [0, 3, 0, 1, 0, 0], [0, 4, 0, 4, 0, 0], [1, 5, 2, 5, 0, 0], [0, 1, 0, 1, 0, 0]], 'HOU': [[0, 7, 0, 3, 0, 0], [0, 6, 0, 7, 0, 0], [0, 1, 0, 5, 0, 0], [4, 3, 0, 4, 0, 0], [1, 6, 1, 5, 0, 0], [1, 1, 0, 1, 0, 0]], 'LA': [[0, 6, 0, 6, 0, 0], [0, 4, 0, 4, 0, 0], [2, 4, 0, 4, 0, 0], [0, 3, 2, 5, 1, 0], [1, 5, 0, 4, 0, 0], [0, 2, 0, 3, 1, 0]], 'LV': [[0, 7, 0, 3, 0, 0], [0, 5, 0, 3, 0, 0], [0, 1, 0, 5, 0, 0], [0, 1, 0, 5, 0, 0], [0, 4, 1, 4, 0, 0], [1, 0, 0, 0, 1, 0]], 'NE': [[0, 2, 0, 4, 0, 0], [0, 4, 0, 2, 0, 0], [0, 1, 0, 1, 0, 0], [0, 2, 0, 4, 0, 0], [2, 4, 0, 1, 1, 0], [0, 1, 0, 0, 0, 0]], 'BUF': [[0, 6, 0, 5, 0, 0], [0, 9, 1, 4, 0, 0], [0, 3, 0, 3, 0, 0], [1, 7, 0, 3, 0, 0], [1, 9, 1, 2, 0, 0], [0, 2, 1, 2, 0, 0]], 'CIN': [[0, 8, 0, 3, 0, 0], [0, 6, 0, 2, 0, 0], [0, 3, 0, 1, 0, 0], [0, 7, 0, 5, 0, 0], [0, 6, 0, 8, 0, 0], [0, 1, 0, 1, 0, 0]], 'BAL': [[0, 12, 0, 3, 0, 0], [1, 8, 0, 3, 0, 0], [0, 3, 0, 5, 0, 0], [0, 7, 1, 6, 0, 0], [0, 6, 0, 7, 1, 0], [0, 1, 0, 0, 0, 0]], 'PIT': [[0, 4, 0, 1, 0, 0], [1, 1, 0, 8, 0, 0], [0, 1, 0, 1, 0, 0], [0, 5, 0, 6, 0, 0], [0, 5, 0, 5, 1, 0], [1, 0, 0, 1, 0, 0]], 'ARI': [[1, 3, 1, 7, 0, 0], [1, 4, 0, 5, 0, 0], [1, 3, 0, 4, 0, 0], [3, 2, 1, 2, 0, 0], [1, 2, 1, 0, 0, 0], [1, 0, 0, 2, 0, 0]], 'ATL': [[0, 4, 0, 3, 0, 0], [0, 5, 0, 4, 1, 0], [1, 0, 0, 2, 0, 0], [0, 2, 0, 8, 0, 0], [2, 7, 1, 3, 0, 0], [0, 0, 0, 4, 0, 0]], 'NO': [[0, 5, 0, 6, 0, 0], [0, 9, 0, 5, 0, 0], [0, 0, 0, 2, 0, 0], [0, 5, 1, 7, 0, 0], [0, 8, 2, 3, 0, 0], [0, 0, 0, 1, 0, 0]], 'IND': [[0, 9, 0, 2, 0, 0], [0, 7, 0, 5, 0, 0], [1, 2, 1, 4, 0, 0], [0, 4, 1, 4, 0, 0], [0, 7, 0, 5, 0, 0], [0, 0, 1, 2, 0, 0]], 'KC': [[0, 6, 0, 5, 0, 0], [0, 8, 0, 4, 0, 0], [0, 8, 0, 6, 0, 0], [1, 6, 0, 2, 0, 0], [0, 3, 0, 6, 0, 0], [0, 0, 0, 0, 0, 0]], 'CAR': [[0, 4, 0, 2, 0, 0], [0, 3, 0, 8, 0, 0], [1, 0, 0, 2, 0, 0], [0, 4, 0, 5, 0, 0], [0, 3, 1, 3, 0, 0], [0, 2, 1, 1, 0, 0]], 'MIA': [[0, 9, 0, 4, 0, 0], [0, 10, 0, 1, 0, 0], [0, 8, 0, 3, 0, 0], [1, 11, 0, 3, 0, 0], [0, 9, 0, 1, 0, 0], [1, 1, 0, 0, 0, 0]], 'PHI': [[1, 7, 0, 7, 0, 0], [0, 6, 0, 1, 0, 0], [0, 2, 0, 3, 0, 0], [0, 10, 1, 2, 1, 0], [1, 7, 0, 6, 0, 0], [0, 2, 0, 1, 0, 0]], 'DAL': [[1, 11, 0, 5, 0, 0], [0, 10, 1, 4, 1, 0], [1, 3, 1, 3, 0, 0], [0, 4, 0, 6, 0, 0], [2, 8, 2, 7, 0, 0], [0, 0, 0, 1, 0, 0]], 'SF': [[0, 9, 0, 3, 0, 0], [0, 9, 0, 5, 0, 0], [0, 4, 0, 3, 0, 0], [0, 9, 0, 2, 0, 0], [0, 11, 0, 4, 0, 0], [0, 1, 0, 0, 0, 0]], 'SEA': [[0, 8, 0, 5, 0, 0], [0, 3, 0, 6, 0, 0], [0, 2, 0, 4, 0, 0], [0, 6, 0, 6, 0, 0], [0, 5, 1, 3, 0, 0], [0, 1, 0, 1, 0, 0]], 'WAS': [[1, 3, 0, 4, 0, 0], [0, 6, 0, 3, 0, 0], [1, 1, 1, 4, 0, 0], [0, 4, 2, 4, 0, 0], [1, 7, 0, 1, 0, 0], [0, 3, 0, 1, 0, 0]], 'DEN': [[1, 8, 0, 3, 0, 0], [1, 3, 0, 4, 0, 0], [0, 1, 0, 8, 0, 0], [0, 4, 0, 2, 0, 0], [1, 7, 2, 5, 1, 0], [2, 0, 0, 4, 0, 0]], 'NYJ': [[0, 1, 0, 3, 2, 0], [0, 2, 0, 8, 1, 0], [2, 0, 0, 3, 0, 0], [0, 3, 1, 5, 0, 0], [0, 4, 0, 5, 0, 0], [0, 1, 1, 3, 0, 0]], 'CLE': [[0, 5, 0, 4, 0, 0], [0, 6, 1, 6, 0, 0], [0, 2, 0, 7, 0, 0], [1, 3, 2, 7, 0, 0], [2, 4, 1, 4, 0, 0], [1, 0, 0, 3, 0, 0]], 'MIN': [[0, 2, 0, 4, 0, 0], [0, 7, 0, 7, 0, 0], [2, 3, 0, 1, 0, 0], [0, 8, 1, 4, 0, 0], [0, 5, 0, 2, 0, 0], [0, 2, 0, 0, 0, 0]], 'DET': [[1, 10, 0, 4, 0, 0], [1, 9, 0, 3, 0, 0], [0, 3, 0, 3, 0, 0], [0, 5, 1, 1, 0, 0], [2, 8, 0, 2, 0, 0], [0, 0, 2, 2, 1, 0]], 'CHI': [[0, 6, 0, 4, 0, 0], [0, 6, 0, 7, 0, 0], [0, 2, 0, 2, 0, 0], [1, 4, 1, 4, 0, 0], [4, 4, 0, 8, 0, 0], [0, 0, 0, 1, 0, 0]], 'NYG': [[0, 1, 0, 3, 0, 0], [0, 4, 0, 3, 0, 0], [0, 2, 0, 1, 0, 0], [1, 6, 0, 1, 0, 0], [1, 3, 0, 5, 0, 0], [0, 2, 0, 2, 0, 0]], 'GB': [[1, 6, 0, 2, 0, 0], [1, 4, 0, 2, 0, 0], [0, 0, 0, 4, 0, 0], [2, 8, 1, 6, 0, 0], [1, 6, 1, 5, 0, 0], [1, 0, 0, 1, 0, 0]]}\n"
     ]
    }
   ],
   "source": [
    "\"\"\"\n",
    "Stores information on scoring events per team per period in a season\n",
    "\n",
    "i.e. 'LAC': [[1, 4, 0, 6, 0, 0], [1, 5, 0, 5, 0, 0], [1, 5, 0, 5, 0, 0], [0, 6, 0, 3, 0, 0], [2, 7, 1, 5, 0, 0], [0, 1, 1, 2, 0, 0]]\n",
    "means that the Chargers had 1 TD6, 4 TD7, 0 TD8, 6 FG, 0 SFTY, and 0 D2P in the first quarter, etc.\n",
    "\"\"\"\n",
    "\n",
    "team_list = ['LAC', 'TEN', 'JAX', 'TB', 'HOU', 'LA', 'LV', 'NE', 'BUF', 'CIN', 'BAL', 'PIT', 'ARI', 'ATL', 'NO', 'IND', 'KC', 'CAR', 'MIA', 'PHI', 'DAL', 'SF', 'SEA', 'WAS', 'DEN', 'NYJ', 'CLE', 'MIN', 'DET', 'CHI', 'NYG', 'GB']\n",
    "df_list = [\"pbp_2015.csv\", \"pbp_2016.csv\", \"pbp_2017.csv\", \"pbp_2018.csv\", \"pbp_2019.csv\", \"pbp_2020.csv\", \"pbp_2021.csv\", \"pbp_2022.csv\", \"pbp_2023.csv\"]\n",
    "\n",
    "period_dict_list=[]\n",
    "\n",
    "year_count=2015\n",
    "event_index=0\n",
    "scoring_event=False\n",
    "team=''\n",
    "\n",
    "for df in df_list:\n",
    "\n",
    "    df = pd.read_csv(df)\n",
    "\n",
    "    team_period_dict={}\n",
    "\n",
    "    for team in team_list:\n",
    "        team_period_dict[team]=[[0,0,0,0,0,0],[0,0,0,0,0,0],[0,0,0,0,0,0],[0,0,0,0,0,0],[0,0,0,0,0,0],[0,0,0,0,0,0]]\n",
    "\n",
    "    for index, row in df.iterrows():\n",
    "\n",
    "        scoring_event=False\n",
    "\n",
    "        if row['season_type']=='REG':\n",
    "\n",
    "            #TD 6\n",
    "            if ((row['extra_point_result'] == 'failed' or row['extra_point_result'] == 'blocked' or row['two_point_conv_result']=='failure')):\n",
    "                event_index=0\n",
    "                scoring_event=True\n",
    "\n",
    "            #TD 7\n",
    "            if (row['extra_point_result'] == 'good'):\n",
    "                event_index=1\n",
    "                scoring_event=True\n",
    "\n",
    "            #TD8\n",
    "            if(row['two_point_conv_result']=='success'):\n",
    "                event_index=2\n",
    "                scoring_event=True\n",
    "\n",
    "            #FG\n",
    "            if (row['field_goal_result']=='made'):\n",
    "                event_index=3\n",
    "                scoring_event=True\n",
    "\n",
    "            #SFTY\n",
    "            if (row['safety']==1):\n",
    "                event_index=4\n",
    "                scoring_event=True\n",
    "\n",
    "            #DP2\n",
    "            if (row['defensive_two_point_conv']==1):\n",
    "                event_index=5\n",
    "                scoring_event=True\n",
    "\n",
    "            if scoring_event==True:\n",
    "\n",
    "\n",
    "                if row['defteam_score_post']>row['defteam_score']:\n",
    "                    team='defteam'\n",
    "                else:\n",
    "                    team='posteam'\n",
    "\n",
    "                if(row['qtr']==1):\n",
    "                    team_period_dict[row[team]][0][event_index]+=1\n",
    "\n",
    "                if(row['qtr']==2):\n",
    "                    time=(row['time'].split(':'))\n",
    "                    if (int(time[0])>=2):\n",
    "                        team_period_dict[row[team]][1][event_index]+=1\n",
    "                    else:\n",
    "                        team_period_dict[row[team]][2][event_index]+=1\n",
    "\n",
    "                if(row['qtr']==3):\n",
    "                    team_period_dict[row[team]][3][event_index]+=1\n",
    "\n",
    "                if(row['qtr']==4):\n",
    "                    time=(row['time'].split(':'))\n",
    "                    if (int(time[0])>=2):\n",
    "                        team_period_dict[row[team]][4][event_index]+=1\n",
    "                    else:\n",
    "                        team_period_dict[row[team]][5][event_index]+=1\n",
    "\n",
    "\n",
    "    print(year_count, team_period_dict)\n",
    "    period_dict_list.append(team_period_dict)\n",
    "    year_count+=1"
   ]
  },
  {
   "cell_type": "code",
   "execution_count": 15,
   "id": "502e156e-7bd2-41cc-9ebc-98758ab622b3",
   "metadata": {},
   "outputs": [],
   "source": [
    "'''\n",
    "The overall scoring event rate in period p of scoring event type e for the r-th best team\n",
    "\n",
    "2015 mu[year(2015-2023)][ranking(1-32)][period(1-6][event(1-6)]\n",
    "\n",
    "mu[2015][0][0][0] show best TD6 scoring rate in first quarter in 2015\n",
    "'''\n",
    "\n",
    "mu = [[[[0 for _ in range(6)] for _ in range(6)] for _ in range(32)] for _ in range(9)]\n",
    "\n",
    "for year in range(9):\n",
    "        for period in range(6):\n",
    "            for event in range(6):\n",
    "                sorted_list = sorted(period_dict_list[year].items(), key=lambda x: x[1][period][event], reverse=True)\n",
    "                for rank in range(32):\n",
    "                    mu[year][rank][period][event]=sorted_list[rank][1][period][event]\n"
   ]
  },
  {
   "cell_type": "code",
   "execution_count": 20,
   "id": "c195a10d-5ebc-4d61-8d65-a6e6743a03c3",
   "metadata": {},
   "outputs": [],
   "source": [
    "# Overall Mu (Combining All Seasons)\n",
    "\n",
    "avg_mu = [[[0 for _ in range(6)] for _ in range(6)] for _ in range(32)]\n",
    "games=0\n",
    "\n",
    "\n",
    "for period in range(6):\n",
    "    for event in range(6):\n",
    "        for rank in range(32):\n",
    "            for year in range(9):\n",
    "\n",
    "                avg_mu[rank][period][event] += mu[year][rank][period][event]\n",
    "\n",
    "            avg_mu[rank][period][event] = avg_mu[rank][period][event]/147\n"
   ]
  },
  {
   "cell_type": "code",
   "execution_count": 22,
   "id": "5c36fa3e-3f76-49ca-92cb-c6b80fdda5fa",
   "metadata": {},
   "outputs": [],
   "source": [
    "# Get Average Scoring Rate Per Period\n",
    "\n",
    "period1_total = 0\n",
    "period2_total = 0\n",
    "period3_total = 0\n",
    "period4_total = 0\n",
    "period5_total = 0\n",
    "period6_total = 0\n",
    "\n",
    "for rank in range(32):\n",
    "    period1_total+=avg_mu[rank][0][0]+avg_mu[rank][0][1]+avg_mu[rank][0][2]+avg_mu[rank][0][3]+avg_mu[rank][0][4]+avg_mu[rank][0][5]\n",
    "    period2_total+=avg_mu[rank][1][0]+avg_mu[rank][1][1]+avg_mu[rank][1][2]+avg_mu[rank][1][3]+avg_mu[rank][1][4]+avg_mu[rank][1][5]\n",
    "    period3_total+=avg_mu[rank][2][0]+avg_mu[rank][2][1]+avg_mu[rank][2][2]+avg_mu[rank][2][3]+avg_mu[rank][2][4]+avg_mu[rank][2][5]\n",
    "    period4_total+=avg_mu[rank][3][0]+avg_mu[rank][3][1]+avg_mu[rank][3][2]+avg_mu[rank][3][3]+avg_mu[rank][3][4]+avg_mu[rank][3][5]\n",
    "    period5_total+=avg_mu[rank][4][0]+avg_mu[rank][4][1]+avg_mu[rank][4][2]+avg_mu[rank][4][3]+avg_mu[rank][4][4]+avg_mu[rank][4][5]\n",
    "    period6_total+=avg_mu[rank][5][0]+avg_mu[rank][5][1]+avg_mu[rank][5][2]+avg_mu[rank][5][3]+avg_mu[rank][5][4]+avg_mu[rank][5][5]\n",
    "\n",
    "period1_mu = 2 * 1/32*(period1_total)\n",
    "period2_mu = 2 * 1/32*(period2_total)\n",
    "period3_mu = 2 * 1/32*(period3_total)\n",
    "period4_mu = 2 * 1/32*(period4_total)\n",
    "period5_mu = 2 * 1/32*(period5_total)\n",
    "period6_mu = 2 * 1/32*(period6_total)"
   ]
  },
  {
   "cell_type": "code",
   "execution_count": 23,
   "id": "6d029482-be1f-48ea-9fb1-d71dc6e53b21",
   "metadata": {},
   "outputs": [],
   "source": [
    "# Scoring Rates Simulation\n",
    "\n",
    "def sim(avg_mu):\n",
    "\n",
    "        \"\"\"\n",
    "        Simulation\n",
    "\n",
    "        Simulates an NFL game by generating a specific number of scoring events in each period.\n",
    "        The period mus are acquired from percentages of real scoring times from 2015-2023.\n",
    "\n",
    "        Parameters:\n",
    "        - avg_mu (list): Array of average scoring mus -avg_mu[rank][period][event]\n",
    "\n",
    "        Returns:\n",
    "        -[s1,s2] (list): Returns a list of one final score in format [team1_score, team2_score]\n",
    "        \"\"\"\n",
    "\n",
    "        stoplist = [15, 28, 30, 45, 58, 60]\n",
    "        numbers = list(range(0, 32))\n",
    "        random.shuffle(numbers)\n",
    "\n",
    "        t1=numbers[0]\n",
    "        t2=numbers[1]\n",
    "\n",
    "        t=0\n",
    "        s1=0\n",
    "        s2=0\n",
    "        x=0\n",
    "\n",
    "        for time in stoplist:\n",
    "\n",
    "            scoring_events=0\n",
    "\n",
    "            #First Quarter\n",
    "            if (time==15):\n",
    "                x = np.random.poisson(period1_mu)\n",
    "                while scoring_events < x:\n",
    "                    [s1, s2] = score_event_sd(s1, s2, t1, t2, avg_mu, period=0)\n",
    "                    scoring_events+=1\n",
    "\n",
    "            #Second Quarter\n",
    "            elif (time==28):\n",
    "                x = np.random.poisson(period2_mu)\n",
    "                while scoring_events < x:\n",
    "                    [s1, s2] = score_event_sd(s1, s2, t1, t2, avg_mu, period=1)\n",
    "                    scoring_events+=1\n",
    "\n",
    "\n",
    "            #Second Quarter 2 min remaining\n",
    "            elif (time==30):\n",
    "                x = np.random.poisson(period3_mu)\n",
    "                while scoring_events < x:\n",
    "                    [s1, s2] = score_event_sd(s1, s2, t1, t2, avg_mu, period=2)\n",
    "                    scoring_events+=1\n",
    "\n",
    "            #Third Quarter\n",
    "            elif (time==45):\n",
    "                x = np.random.poisson(period4_mu)\n",
    "                while scoring_events < x:\n",
    "                    [s1, s2] = score_event_sd(s1, s2, t1, t2, avg_mu, period=3)\n",
    "                    scoring_events+=1\n",
    "\n",
    "\n",
    "            #Fourth Quarter\n",
    "            elif (time==58):\n",
    "                x = np.random.poisson(period5_mu)\n",
    "\n",
    "                while scoring_events < x:\n",
    "                    [s1, s2] = score_event_sd(s1, s2, t1, t2, avg_mu, period=4)\n",
    "                    scoring_events+=1\n",
    "\n",
    "\n",
    "            #Fourth Quarter 2 minutes remaining\n",
    "            elif (time==60):\n",
    "\n",
    "                x = np.random.poisson(period6_mu)\n",
    "                while scoring_events < x:\n",
    "                    [s1, s2] = score_event_sd(s1, s2, t1, t2, avg_mu, period=5)\n",
    "                    scoring_events+=1\n",
    "\n",
    "        if (time==60 and s1 != s2):\n",
    "            return([s1,s2])\n",
    "\n",
    "        else:\n",
    "            ot_score_updated = ot_scoring(t1, t2, avg_mu)\n",
    "\n",
    "            #T1 Scores\n",
    "            if ot_score_updated[0]==1:\n",
    "                s1 += ot_score_updated[1][0]\n",
    "                s2 += ot_score_updated[1][1]\n",
    "            else:\n",
    "                s1 += ot_score_updated[1][1]\n",
    "                s2 += ot_score_updated[1][0]\n",
    "            return([s1,s2])\n"
   ]
  },
  {
   "cell_type": "code",
   "execution_count": 31,
   "id": "2fd35d17-f6f6-4285-a97d-fbd331367991",
   "metadata": {},
   "outputs": [],
   "source": [
    "def score_event_sd(s1, s2, t1, t2, avg_mu, period):\n",
    "\n",
    "\n",
    "    \"\"\"\n",
    "    Score Event Simulation\n",
    "\n",
    "    Generates which team should score and how much their points increase by\n",
    "\n",
    "    Parameters:\n",
    "    - s1 (int): Score of team 1\n",
    "    - s2 (int): Score of team 2\n",
    "    - t1 (int): Rank of team 1\n",
    "    - t2 (int): Rank of team 2\n",
    "    - avg_mu (list): Array of average scoring mus -avg_mu[rank][period][event]\n",
    "    - period (int): Current game period (1st quarter, 2nd quarter, 2nd quarter 2 min remaining, etc.)\n",
    "\n",
    "    Returns:\n",
    "    -[s1,s2] (list): Returns a list of updated score in format [team1_score, team2_score]\n",
    "    \"\"\"\n",
    "    td_rate=0\n",
    "    fg_rate=0\n",
    "    sfty_rate=0\n",
    "\n",
    "    #Time Remaining at start of each period\n",
    "    time_remaining_list = [60, 45, 32, 30, 13, 2]\n",
    "    time_remaining = time_remaining_list[period]\n",
    "\n",
    "    #Hard coded values of delta and lambda\n",
    "    delta=0.4\n",
    "    lamb=0.02\n",
    "\n",
    "    theta = pow(2.718281828459045, ((lamb*-1)*(60-time_remaining)))\n",
    "\n",
    "    # Calculating Total TD, FG, and SFTY rates over all teams for current period\n",
    "    for x in range(32):\n",
    "        td_rate+=avg_mu[x][period][0]+avg_mu[x][period][1]+avg_mu[x][period][2]+avg_mu[x][period][5]\n",
    "        fg_rate+=avg_mu[x][period][3]\n",
    "        sfty_rate+=avg_mu[x][period][4]\n",
    "\n",
    "\n",
    "    #Get avg scoring rate\n",
    "    td_rate=td_rate/32\n",
    "    fg_rate=fg_rate/32\n",
    "    sfty_rate=sfty_rate/32\n",
    "\n",
    "    #Create mu_bar (average scoring rate of all events in current period)\n",
    "    mu_bar = 0\n",
    "    for team in range(32):\n",
    "        for event in range(6):\n",
    "            mu_bar+=(avg_mu[team][period][event])\n",
    "    mu_bar = (mu_bar*1/32)\n",
    "\n",
    "    #Mu 1 (average scoring rate for all events for team 1 in current period)\n",
    "    mu_1=0\n",
    "    for event in range(6):\n",
    "        mu_1+=avg_mu[t1][period][event]\n",
    "\n",
    "    #Mu 2 (average scoring rate for all events for team 2 in current period)\n",
    "    mu_2=0\n",
    "    for event in range(6):\n",
    "        mu_2+=avg_mu[t2][period][event]\n",
    "\n",
    "    w1=0\n",
    "    w2=0\n",
    "\n",
    "    #If t1 is beating t2, give advantage to t2\n",
    "    if s1>s2:\n",
    "        w1 = mu_1*theta+(1-theta)*mu_bar*(1-delta)\n",
    "        w2 = mu_2*theta+(1-theta)*mu_bar*(1+delta)\n",
    "\n",
    "    #If t2 is beating t1, give advantage to t1\n",
    "    elif s1<s2:\n",
    "        w1 = mu_1*theta+(1-theta)*mu_bar*(1+delta)\n",
    "        w2 = mu_2*theta+(1-theta)*mu_bar*(1-delta)\n",
    "\n",
    "    #If tied, no advantage\n",
    "    else:\n",
    "        w1 = mu_1*theta+(1-theta)*mu_bar\n",
    "        w2 = mu_2*theta+(1-theta)*mu_bar\n",
    "\n",
    "    weight1=(w1/(w1+w2))\n",
    "    weight2=1-weight1\n",
    "\n",
    "    #\"Flip Coin\" to decide which team scores\n",
    "    scoring_team = random.choices([1,2], weights=(weight1, weight2))\n",
    "    scoring_team = scoring_team[0]\n",
    "\n",
    "    XP_or_2PT=0\n",
    "\n",
    "    #Choose scoring event based off above rates\n",
    "    event = random.choices([\"FG\", \"TD\", \"SFTY\"], weights=(fg_rate, td_rate, sfty_rate))\n",
    "    event=event[0]\n",
    "\n",
    "   #Field Goal\n",
    "    if(event=='FG'):\n",
    "        if (scoring_team==1):\n",
    "            return[s1+3, s2]\n",
    "        else:\n",
    "            return[s1, s2+3]\n",
    "\n",
    "    #Safety\n",
    "    elif(event=='SFTY'):\n",
    "        if (scoring_team==1):\n",
    "            return[s1+2, s2]\n",
    "        else:\n",
    "            return[s1, s2+2]\n",
    "\n",
    "    #Touchdown\n",
    "    else:\n",
    "\n",
    "        if(scoring_team==1):\n",
    "\n",
    "            #If score difference does not exist kick xp\n",
    "            if((s1+6)-s2 not in xp_attempt_perc.keys()):\n",
    "                XP_or_2PT=1\n",
    "\n",
    "            else:\n",
    "                #Deciding 1 or 2 point\n",
    "                XP_or_2PT_Choice = random.choices([1,2], weights=(xp_attempt_perc[(s1+6)-s2], xp2_attempt_perc[(s1+6)-s2]))\n",
    "                XP_or_2PT=XP_or_2PT_Choice[0]\n",
    "\n",
    "            #If 1 point, calculate make rate\n",
    "            if (XP_or_2PT == 1):\n",
    "                make_xp = random.choices([1,0], weights=(xp_make_perc, 1-xp_make_perc))\n",
    "                make_xp=make_xp[0]\n",
    "                return [s1+6+make_xp, s2]\n",
    "\n",
    "           #If 2 points, calculate make rate\n",
    "            elif (XP_or_2PT == 2):\n",
    "                make_xp2 = random.choices([2,0], weights=(xp2_make_perc, 1-xp2_make_perc))\n",
    "                make_xp2=make_xp2[0]\n",
    "                return [s1+6+make_xp2, s2]\n",
    "\n",
    "        #Team 2 Scores\n",
    "        else:\n",
    "\n",
    "            #If score difference does not exist kick xp\n",
    "            if((s2+6)-s1 not in xp_attempt_perc.keys()):\n",
    "                XP_or_2PT=1\n",
    "\n",
    "            else:\n",
    "                #Deciding 1 or 2 point\n",
    "                XP_or_2PT_Choice = random.choices([1,2], weights=(xp_attempt_perc[(s2+6)-s1], xp2_attempt_perc[(s2+6)-s1]))\n",
    "                XP_or_2PT=XP_or_2PT_Choice[0]\n",
    "\n",
    "            #If 1 point, calculate make rate\n",
    "            if (XP_or_2PT == 1):\n",
    "                make_xp = random.choices([1,0], weights=(xp_make_perc, 1-xp_make_perc))\n",
    "                make_xp=make_xp[0]\n",
    "                return [s1, s2+6+make_xp]\n",
    "\n",
    "\n",
    "            #If 2 points, calculate make rate\n",
    "            elif (XP_or_2PT == 2):\n",
    "                make_xp2 = random.choices([2,0], weights=(xp2_make_perc, 1-xp2_make_perc))\n",
    "                make_xp2=make_xp2[0]\n",
    "                return [s1, s2+6+make_xp2]\n",
    "\n",
    "    return [s1, s2]\n"
   ]
  },
  {
   "cell_type": "code",
   "execution_count": 32,
   "id": "a3f64258-3a00-4d43-965c-bddebae1944f",
   "metadata": {},
   "outputs": [
    {
     "name": "stdout",
     "output_type": "stream",
     "text": [
      "[35, 41]\n",
      "[31, 39]\n",
      "[19, 45]\n",
      "[17, 9]\n",
      "[30, 8]\n",
      "[16, 13]\n"
     ]
    }
   ],
   "source": [
    "\"\"\"\n",
    "Run Many Simulations\n",
    "\n",
    "Change \n",
    "\n",
    "\"\"\"\n",
    "\n",
    "\n",
    "score_count = [ [0 for i in range(j)] for j in range(1, 200)]\n",
    "\n",
    "for x in range(300):\n",
    "\n",
    "    game=sim(avg_mu)\n",
    "\n",
    "    if(x%50==0):\n",
    "        print(game)\n",
    "\n",
    "    win_pts=max(game)\n",
    "    lose_pts=min(game)\n",
    "\n",
    "    score_count[win_pts][lose_pts]+=1\n",
    "\n",
    "with open('ScoreDiff_Sim.csv', 'w', newline='') as file:\n",
    "    writer = csv.writer(file)\n",
    "\n",
    "    for i in range(len(score_count)):\n",
    "        writer.writerow(score_count[i])"
   ]
  },
  {
   "cell_type": "code",
   "execution_count": null,
   "id": "2e4717bc-3ca6-4417-bd27-5488b29e911d",
   "metadata": {},
   "outputs": [],
   "source": []
  }
 ],
 "metadata": {
  "kernelspec": {
   "display_name": "Python 3 (ipykernel)",
   "language": "python",
   "name": "python3"
  },
  "language_info": {
   "codemirror_mode": {
    "name": "ipython",
    "version": 3
   },
   "file_extension": ".py",
   "mimetype": "text/x-python",
   "name": "python",
   "nbconvert_exporter": "python",
   "pygments_lexer": "ipython3",
   "version": "3.11.7"
  }
 },
 "nbformat": 4,
 "nbformat_minor": 5
}
